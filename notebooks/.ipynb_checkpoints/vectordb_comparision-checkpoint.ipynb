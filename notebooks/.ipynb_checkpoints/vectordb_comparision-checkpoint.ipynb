{
 "cells": [
  {
   "cell_type": "markdown",
   "id": "32fd21586f5f26cf",
   "metadata": {
    "ExecuteTime": {
     "end_time": "2025-09-23T05:18:46.451912Z",
     "start_time": "2025-09-23T05:18:46.450311Z"
    },
    "collapsed": true,
    "jupyter": {
     "outputs_hidden": true
    }
   },
   "source": [
    "# Vector DB comparision"
   ]
  },
  {
   "cell_type": "markdown",
   "id": "4d3efe9039e8ebcd",
   "metadata": {},
   "source": [
    "## [Vector DB Dashboard](https://superlinked.com/vector-db-comparison) -> Click to get more information"
   ]
  },
  {
   "cell_type": "markdown",
   "id": "cb8bbe18497079d0",
   "metadata": {
    "ExecuteTime": {
     "end_time": "2025-09-23T06:58:12.350100Z",
     "start_time": "2025-09-23T06:58:12.264685Z"
    }
   },
   "source": [
    "|       **Feature**      |      **FAISS**      |                        **ChromaDB**                       |      **Pinecone**      |                          **Weaviate**                          |                    **Qdrant**                    |            LanceDB            |\n",
    "|:----------------------:|:-------------------:|:---------------------------------------------------------:|:----------------------:|:--------------------------------------------------------------:|:------------------------------------------------:|:-----------------------------:|\n",
    "| **Type**               | Library             | Library + DB                                              | Managed Cloud DB       | Managed DB + OSS                                               | Managed DB + OSS                                 | Managed DB + OSS              |\n",
    "| **Hosting**            | Local               | Local (some cloud support)                                | Cloud-only             | Cloud & Self-host                                              | Cloud & Self-host                                | Cloud & Self-host             |\n",
    "| **Persistant Storage** | No (in-memory)      | Yes                                                       | Yes                    | Yes                                                            | Yes                                              | Yes (s3)                      |\n",
    "| **Scalability**        | Manual              | Limited                                                   | Auto-scaling           | Auto-scaling                                                   | Auto-scaling                                     | Auto-scaling                  |\n",
    "| **API Access**         | No REST API         | Python API                                                | REST/gRPC API          | REST/gRPC API                                                  | REST/gRPC API                                    | Pandas Style API              |\n",
    "| **Indexing Option**    | IVF, HNSW, PQ, Flat | HNSW, SPANN                                               | Proprietery            | HNSW, Flat, IVF, Flat-BQ                                       | HNSW, IVF, PQ                                    | HNSW, IVF, PQ                 |\n",
    "| **BM-25**              | No                  | No                                                        | No                     | Yes                                                            | No                                               | Yes                           |\n",
    "| **Hybrid search**      | No                  | No                                                        | Yes                    | Yes                                                            | Yes                                              | Yes                           |\n",
    "| **Metadata Filtering** | Manual              | Built-in                                                  | Built-in               | Built-in                                                       | Built-in                                         | Built-in (limited)            |\n",
    "| **Replication**        | No                  | No                                                        | Yes                    | Yes                                                            | Yes                                              | NA                            |\n",
    "| **Embeddings Storage** | Vectors only        | Vectors + Metadata + Documents                            | Vectors + Metadata     | Vectors + Metadata + Schema                                    | Vectors +  Payload (Custom  metadata)            | tabular + vector              |\n",
    "| **Integrations**       | Custom              | Langchain, Lllamaindex                                    | Langchain, Lllamaindex | Langchain, Lllamaindex                                         | Langchain, Lllamaindex                           | Langchain, Lllamaindex        |\n",
    "| **License**            | MIT                 | Apache 2.0                                                | Proprietery SaaS       | BSD                                                            | Apache 2.0                                       | Apache 2.0                    |\n",
    "| **Best For**           | Fast local search   | Embedding + metadata                                      | Production Saas        | Knowledge graph &  vector search                               | Vector Search  with filtering                    | Tabular data +  Vector search |\n",
    "| **Docker image**       | No                  | [chromadb](https://hub.docker.com/r/chromadb/chroma/tags) | NA                     | [weaviate](https://hub.docker.com/r/semitechnologies/weaviate) | [qdrant](https://hub.docker.com/r/qdrant/qdrant) | NA                            |\n",
    "| **Dev Language**       | C++                 | rust                                                      | rust                   | go                                                             | rust                                             | rust                          |\n",
    "| **Multi-tenant**       | No                  | Yes                                                       | Yes (via namespace)    | Yes                                                            | Yes (via collection/metadata)                    | No                            |"
   ]
  },
  {
   "cell_type": "markdown",
   "id": "d2a85be29181d0dd",
   "metadata": {},
   "source": [
    "## Comparing different vector db"
   ]
  },
  {
   "cell_type": "markdown",
   "id": "e742e850b7f9ccd9",
   "metadata": {},
   "source": [
    "### Step 1 - Prepare test data"
   ]
  },
  {
   "cell_type": "code",
   "execution_count": 1,
   "id": "7720de243444ecfc",
   "metadata": {},
   "outputs": [],
   "source": [
    "sentences = [\n",
    "\t\"Artificial intelligence is transforming modern healthcare through diagnostic tools.\",\n",
    "\t\"Machine learning algorithms can predict patient outcomes with high accuracy.\",\n",
    "\t\"Neural networks require large amounts of training data to be effective.\",\n",
    "\t\"Cloud computing enables scalable AI deployment across industries.\",\n",
    "\t\"Natural language processing allows computers to understand human speech.\",\n",
    "\t\"Deep learning models excel at image recognition tasks.\",\n",
    "\t\"Data privacy remains a major concern in AI implementation.\",\n",
    "\t\"Quantum computing promises to revolutionize complex calculations.\",\n",
    "\t\"Robotics automation is changing manufacturing processes worldwide.\",\n",
    "\t\"Computer vision systems can identify objects in real-time video.\",\n",
    "\t\"Ethical AI development requires careful consideration of bias.\",\n",
    "\t\"The Internet of Things connects everyday devices to the cloud.\",\n",
    "\t\"Blockchain technology provides secure decentralized transactions.\",\n",
    "\t\"5G networks enable faster data transfer for mobile applications.\",\n",
    "\t\"Virtual reality creates immersive digital experiences for users.\",\n",
    "\t\"Cybersecurity threats continue to evolve with advancing technology.\",\n",
    "\t\"Big data analytics helps businesses make informed decisions.\",\n",
    "\t\"Autonomous vehicles use sensors and AI to navigate roads safely.\",\n",
    "\t\"Edge computing processes data closer to the source for reduced latency.\",\n",
    "\t\"Augmented reality overlays digital information onto the real world.\",\n",
    "\t\"Python is the most popular programming language for data science.\",\n",
    "\t\"Reinforcement learning allows AI to learn through trial and error.\",\n",
    "\t\"Semiconductor chips are essential components in all computing devices.\",\n",
    "\t\"Digital transformation affects every industry in the modern economy.\",\n",
    "\t\"AI ethics committees are being formed to guide responsible development.\",\n",
    "]"
   ]
  },
  {
   "cell_type": "code",
   "execution_count": 2,
   "id": "ab4da011669ee624",
   "metadata": {},
   "outputs": [],
   "source": [
    "queries = [\n",
    "\t\"AI in healthcare\",\n",
    "\t\"Machine learning applications\",\n",
    "\t\"Technology security concerns\",\n",
    "\t\"Neural networks and data requirements\",\n",
    "\t\"Real-time computer vision systems\",\n",
    "]"
   ]
  },
  {
   "cell_type": "code",
   "execution_count": 3,
   "id": "a7950d81172b64f8",
   "metadata": {
    "ExecuteTime": {
     "end_time": "2025-09-23T10:00:33.469666Z",
     "start_time": "2025-09-23T10:00:33.462800Z"
    }
   },
   "outputs": [],
   "source": [
    "import os\n",
    "from dotenv import load_dotenv, find_dotenv\n",
    "\n",
    "load_dotenv(find_dotenv())\n",
    "EURI_API_KEY = os.getenv(\"EURI_API_KEY\")"
   ]
  },
  {
   "cell_type": "code",
   "execution_count": 4,
   "id": "63799dd331c299af",
   "metadata": {
    "ExecuteTime": {
     "end_time": "2025-09-23T10:03:13.260825Z",
     "start_time": "2025-09-23T10:03:13.230252Z"
    }
   },
   "outputs": [],
   "source": [
    "import requests\n",
    "import numpy as np"
   ]
  },
  {
   "cell_type": "code",
   "execution_count": 5,
   "id": "f476ae83cd83f846",
   "metadata": {
    "ExecuteTime": {
     "end_time": "2025-09-23T10:03:31.785187Z",
     "start_time": "2025-09-23T10:03:31.782404Z"
    }
   },
   "outputs": [],
   "source": [
    "def generate_embeddings(text: str) -> np.ndarray:\n",
    "\turl = \"https://api.euron.one/api/v1/euri/embeddings\"\n",
    "\theaders = {\n",
    "\t\t\"Content-Type\": \"application/json\",\n",
    "\t\t\"Authorization\": f\"Bearer {EURI_API_KEY}\",\n",
    "\t}\n",
    "\tpayload = {\"input\": text, \"model\": \"text-embedding-3-small\"}\n",
    "\n",
    "\tresponse = requests.post(url, headers=headers, json=payload)\n",
    "\tdata = response.json()\n",
    "\n",
    "\tembedding = np.array(data[\"data\"][0][\"embedding\"], dtype=np.float32)\n",
    "\n",
    "\treturn embedding"
   ]
  },
  {
   "cell_type": "code",
   "execution_count": 6,
   "id": "3924358f20c9e4bd",
   "metadata": {
    "ExecuteTime": {
     "end_time": "2025-09-23T10:03:38.290197Z",
     "start_time": "2025-09-23T10:03:37.300973Z"
    }
   },
   "outputs": [],
   "source": [
    "text = \"The weather is sunny today.\"\n",
    "\n",
    "embedding = generate_embeddings(text)"
   ]
  },
  {
   "cell_type": "code",
   "execution_count": 7,
   "id": "51841f99d0e920c2",
   "metadata": {
    "ExecuteTime": {
     "end_time": "2025-09-23T10:05:40.290686Z",
     "start_time": "2025-09-23T10:05:40.288766Z"
    }
   },
   "outputs": [
    {
     "name": "stdout",
     "output_type": "stream",
     "text": [
      "embedding shape: (1536,) and embedding type: float32\n"
     ]
    }
   ],
   "source": [
    "print(f\"embedding shape: {embedding.shape} and embedding type: {embedding.dtype}\")"
   ]
  },
  {
   "cell_type": "code",
   "execution_count": 8,
   "id": "8d940e1108ad663c",
   "metadata": {
    "ExecuteTime": {
     "end_time": "2025-09-23T10:07:30.738683Z",
     "start_time": "2025-09-23T10:07:05.381995Z"
    }
   },
   "outputs": [],
   "source": [
    "embeddings = []\n",
    "for i in sentences:\n",
    "\temb = generate_embeddings(text=i)\n",
    "\tembeddings.append(emb)"
   ]
  },
  {
   "cell_type": "code",
   "execution_count": 9,
   "id": "c95f5dafd5613f24",
   "metadata": {
    "ExecuteTime": {
     "end_time": "2025-09-23T10:08:06.194385Z",
     "start_time": "2025-09-23T10:08:06.188580Z"
    }
   },
   "outputs": [
    {
     "data": {
      "text/plain": [
       "[array([ 0.0098142 , -0.02956349,  0.0170677 , ...,  0.00462685,\n",
       "        -0.03077241,  0.02712368], shape=(1536,), dtype=float32),\n",
       " array([-0.00840364, -0.00392833,  0.03710642, ..., -0.00084534,\n",
       "        -0.01359169, -0.00227219], shape=(1536,), dtype=float32),\n",
       " array([ 0.00685719,  0.01064172,  0.03272605, ..., -0.02078094,\n",
       "         0.00418498,  0.01802759], shape=(1536,), dtype=float32),\n",
       " array([-0.00989157, -0.03057791,  0.04363609, ..., -0.01714974,\n",
       "        -0.01270996,  0.04276554], shape=(1536,), dtype=float32),\n",
       " array([-0.03052658,  0.0204996 , -0.0008052 , ..., -0.00183322,\n",
       "         0.02163397,  0.03516533], shape=(1536,), dtype=float32),\n",
       " array([ 0.01001777, -0.03060824, -0.0151873 , ...,  0.01738751,\n",
       "         0.01140021,  0.0041327 ], shape=(1536,), dtype=float32),\n",
       " array([ 0.0315668 ,  0.00453559,  0.03619356, ..., -0.01535035,\n",
       "         0.03108817,  0.00243731], shape=(1536,), dtype=float32),\n",
       " array([-0.0273714 ,  0.01015717, -0.01994542, ..., -0.02634794,\n",
       "         0.0294897 ,  0.00632517], shape=(1536,), dtype=float32),\n",
       " array([-0.02057778,  0.02474341,  0.04170187, ...,  0.00142767,\n",
       "        -0.00692565,  0.015513  ], shape=(1536,), dtype=float32),\n",
       " array([-0.01776937,  0.02519335, -0.03731883, ...,  0.02272218,\n",
       "         0.01810445,  0.00461512], shape=(1536,), dtype=float32),\n",
       " array([ 0.02973606,  0.01163347,  0.00553151, ..., -0.00063948,\n",
       "        -0.00135633, -0.00449985], shape=(1536,), dtype=float32),\n",
       " array([-0.01711707,  0.01020563, -0.00510282, ..., -0.00725569,\n",
       "        -0.02171411,  0.02081377], shape=(1536,), dtype=float32),\n",
       " array([-0.01642623, -0.03643444,  0.00518486, ...,  0.00528289,\n",
       "        -0.01195406, -0.01021606], shape=(1536,), dtype=float32),\n",
       " array([ 0.02413698,  0.00934047,  0.00349282, ...,  0.00485158,\n",
       "        -0.00846266,  0.05100725], shape=(1536,), dtype=float32),\n",
       " array([-0.03282599,  0.04872898, -0.0259177 , ...,  0.0033904 ,\n",
       "        -0.04202932, -0.01650573], shape=(1536,), dtype=float32),\n",
       " array([ 0.01595372, -0.00216669,  0.05948148, ..., -0.05172699,\n",
       "        -0.02937582,  0.00398273], shape=(1536,), dtype=float32),\n",
       " array([-1.2118887e-05,  1.1634132e-03,  4.4968136e-02, ...,\n",
       "         5.1945751e-03,  1.7673004e-03,  3.5076976e-02],\n",
       "       shape=(1536,), dtype=float32),\n",
       " array([ 0.00865287, -0.00986484, -0.00554968, ...,  0.00273256,\n",
       "        -0.02859112,  0.011167  ], shape=(1536,), dtype=float32),\n",
       " array([-0.02970201,  0.00073163,  0.02918907, ..., -0.01923547,\n",
       "        -0.03219347,  0.02530533], shape=(1536,), dtype=float32),\n",
       " array([-0.04113862,  0.0418223 , -0.00848116, ..., -0.03074198,\n",
       "        -0.00490952,  0.02458887], shape=(1536,), dtype=float32),\n",
       " array([ 0.00242967, -0.00034291,  0.03602314, ..., -0.04497478,\n",
       "         0.03252189,  0.03084346], shape=(1536,), dtype=float32),\n",
       " array([ 0.0080252 , -0.03687596,  0.01728101, ..., -0.03329985,\n",
       "        -0.03433061,  0.03140662], shape=(1536,), dtype=float32),\n",
       " array([-0.00180953,  0.00368739, -0.04047453, ..., -0.02777499,\n",
       "         0.02630319,  0.01109107], shape=(1536,), dtype=float32),\n",
       " array([-0.01064683, -0.01766419,  0.0381151 , ..., -0.00772528,\n",
       "        -0.03957588,  0.04454253], shape=(1536,), dtype=float32),\n",
       " array([ 0.03145897, -0.0079595 ,  0.05644928, ..., -0.00096493,\n",
       "         0.00399238,  0.00403344], shape=(1536,), dtype=float32)]"
      ]
     },
     "execution_count": 9,
     "metadata": {},
     "output_type": "execute_result"
    }
   ],
   "source": [
    "embeddings"
   ]
  },
  {
   "cell_type": "code",
   "execution_count": 10,
   "id": "5f82e0d76c5b75c2",
   "metadata": {
    "ExecuteTime": {
     "end_time": "2025-09-23T10:08:07.477545Z",
     "start_time": "2025-09-23T10:08:07.474710Z"
    }
   },
   "outputs": [
    {
     "data": {
      "text/plain": [
       "1536"
      ]
     },
     "execution_count": 10,
     "metadata": {},
     "output_type": "execute_result"
    }
   ],
   "source": [
    "len(embeddings[0])"
   ]
  },
  {
   "cell_type": "code",
   "execution_count": 11,
   "id": "d3ba2014980dac6",
   "metadata": {
    "ExecuteTime": {
     "end_time": "2025-09-23T10:09:10.398351Z",
     "start_time": "2025-09-23T10:09:10.395468Z"
    }
   },
   "outputs": [
    {
     "data": {
      "text/plain": [
       "(25, 1536)"
      ]
     },
     "execution_count": 11,
     "metadata": {},
     "output_type": "execute_result"
    }
   ],
   "source": [
    "embeddings_array = np.vstack(embeddings)\n",
    "embeddings_array.shape"
   ]
  },
  {
   "cell_type": "code",
   "execution_count": 12,
   "id": "8db32d4edada22f6",
   "metadata": {},
   "outputs": [
    {
     "data": {
      "text/plain": [
       "1536"
      ]
     },
     "execution_count": 12,
     "metadata": {},
     "output_type": "execute_result"
    }
   ],
   "source": [
    "dimension = embeddings_array.shape[1]\n",
    "dimension"
   ]
  },
  {
   "cell_type": "markdown",
   "id": "f488245d7fde0d6b",
   "metadata": {},
   "source": [
    "### Running in FAISS"
   ]
  },
  {
   "cell_type": "code",
   "execution_count": 13,
   "id": "32d77e6507d36135",
   "metadata": {},
   "outputs": [],
   "source": [
    "import faiss"
   ]
  },
  {
   "cell_type": "code",
   "execution_count": 14,
   "id": "3da1e6b591a9bd9d",
   "metadata": {},
   "outputs": [
    {
     "data": {
      "text/plain": [
       "<faiss.swigfaiss.IndexFlatL2; proxy of <Swig Object of type 'faiss::IndexFlatL2 *' at 0x114642640> >"
      ]
     },
     "execution_count": 14,
     "metadata": {},
     "output_type": "execute_result"
    }
   ],
   "source": [
    "index = faiss.IndexFlatL2(dimension)\n",
    "index"
   ]
  },
  {
   "cell_type": "code",
   "execution_count": 15,
   "id": "98df46d291189582",
   "metadata": {
    "ExecuteTime": {
     "end_time": "2025-09-23T10:11:11.236366Z",
     "start_time": "2025-09-23T10:11:11.233530Z"
    }
   },
   "outputs": [
    {
     "data": {
      "text/plain": [
       "25"
      ]
     },
     "execution_count": 15,
     "metadata": {},
     "output_type": "execute_result"
    }
   ],
   "source": [
    "index.add(embeddings_array)\n",
    "index.ntotal"
   ]
  },
  {
   "cell_type": "code",
   "execution_count": 16,
   "id": "d2b025eaaff6ac69",
   "metadata": {
    "ExecuteTime": {
     "end_time": "2025-09-23T10:12:44.390409Z",
     "start_time": "2025-09-23T10:12:44.386704Z"
    }
   },
   "outputs": [
    {
     "data": {
      "text/plain": [
       "'AI in healthcare'"
      ]
     },
     "execution_count": 16,
     "metadata": {},
     "output_type": "execute_result"
    }
   ],
   "source": [
    "query = queries[0]\n",
    "query"
   ]
  },
  {
   "cell_type": "code",
   "execution_count": 17,
   "id": "455fb3c690d34764",
   "metadata": {
    "ExecuteTime": {
     "end_time": "2025-09-23T10:14:10.910884Z",
     "start_time": "2025-09-23T10:14:09.918514Z"
    }
   },
   "outputs": [
    {
     "data": {
      "text/plain": [
       "(1, 1536)"
      ]
     },
     "execution_count": 17,
     "metadata": {},
     "output_type": "execute_result"
    }
   ],
   "source": [
    "query_vec = generate_embeddings(text=query).reshape(1, -1)\n",
    "query_vec.shape"
   ]
  },
  {
   "cell_type": "code",
   "execution_count": 18,
   "id": "a512019d7a4bb6f9",
   "metadata": {},
   "outputs": [],
   "source": [
    "distance, indices = index.search(query_vec, 2)"
   ]
  },
  {
   "cell_type": "code",
   "execution_count": 19,
   "id": "8cc69434317b1960",
   "metadata": {},
   "outputs": [
    {
     "name": "stdout",
     "output_type": "stream",
     "text": [
      "Query: AI in healthcare\n",
      "Top 2 most similar sentences:\n",
      "Artificial intelligence is transforming modern healthcare through diagnostic tools.\n",
      "Cloud computing enables scalable AI deployment across industries.\n",
      "\n"
     ]
    }
   ],
   "source": [
    "print(\n",
    "\tf\"Query: {query}\\n\"\n",
    "\tf\"Top 2 most similar sentences:\\n\"\n",
    "\tf\"{sentences[indices[0][0]]}\\n\"\n",
    "\tf\"{sentences[indices[0][1]]}\\n\"\n",
    ")"
   ]
  },
  {
   "cell_type": "code",
   "execution_count": 20,
   "id": "332bfeaff47c8d08",
   "metadata": {},
   "outputs": [],
   "source": [
    "# save index to disk\n",
    "faiss.write_index(index, \"../data/faiss_index.faiss\")"
   ]
  },
  {
   "cell_type": "markdown",
   "id": "0531b2bb-5c98-4e9e-9ee2-12f55a116783",
   "metadata": {},
   "source": [
    "## Chroma DB"
   ]
  },
  {
   "cell_type": "code",
   "execution_count": 13,
   "id": "7fdb55e8-b911-4c60-bcb3-7e0a29f099fc",
   "metadata": {},
   "outputs": [],
   "source": [
    "import chromadb"
   ]
  },
  {
   "cell_type": "code",
   "execution_count": 14,
   "id": "88c6a311-415d-45ef-b99b-0c2c0bd04912",
   "metadata": {},
   "outputs": [],
   "source": [
    "from chromadb.utils import embedding_functions"
   ]
  },
  {
   "cell_type": "code",
   "execution_count": 16,
   "id": "41c5dd21-2aff-47eb-870c-73c040f3bdbb",
   "metadata": {},
   "outputs": [],
   "source": [
    "chroma_client = chromadb.Client()"
   ]
  },
  {
   "cell_type": "code",
   "execution_count": 17,
   "id": "130055df-fd6c-4e59-bf49-50f5ed66e3d5",
   "metadata": {},
   "outputs": [],
   "source": [
    "chroma_collection = chroma_client.create_collection(name=\"chroma_db_test\")"
   ]
  },
  {
   "cell_type": "code",
   "execution_count": 18,
   "id": "b08d642d-a3f1-4044-8251-c8584aad70fa",
   "metadata": {},
   "outputs": [
    {
     "data": {
      "text/plain": [
       "1536"
      ]
     },
     "execution_count": 18,
     "metadata": {},
     "output_type": "execute_result"
    }
   ],
   "source": [
    "len(embeddings_array[0])"
   ]
  },
  {
   "cell_type": "code",
   "execution_count": 20,
   "id": "b412569d-c3a5-438b-8a7c-17b155b74bc6",
   "metadata": {},
   "outputs": [],
   "source": [
    "chroma_collection.add(\n",
    "    documents=sentences,\n",
    "    embeddings=embeddings_array,\n",
    "    ids=[f\"rec_{i}\" for i in range(len(sentences))]\n",
    ")"
   ]
  },
  {
   "cell_type": "code",
   "execution_count": 21,
   "id": "56bebbbc-919e-4734-91c6-7ad65384f3a8",
   "metadata": {},
   "outputs": [
    {
     "data": {
      "text/plain": [
       "25"
      ]
     },
     "execution_count": 21,
     "metadata": {},
     "output_type": "execute_result"
    }
   ],
   "source": [
    "chroma_collection.count()"
   ]
  },
  {
   "cell_type": "code",
   "execution_count": 22,
   "id": "f6b2f805-8266-4051-816e-dfc73cd695ec",
   "metadata": {},
   "outputs": [
    {
     "data": {
      "text/plain": [
       "{'ids': ['rec_0',\n",
       "  'rec_1',\n",
       "  'rec_2',\n",
       "  'rec_3',\n",
       "  'rec_4',\n",
       "  'rec_5',\n",
       "  'rec_6',\n",
       "  'rec_7',\n",
       "  'rec_8',\n",
       "  'rec_9',\n",
       "  'rec_10',\n",
       "  'rec_11',\n",
       "  'rec_12',\n",
       "  'rec_13',\n",
       "  'rec_14',\n",
       "  'rec_15',\n",
       "  'rec_16',\n",
       "  'rec_17',\n",
       "  'rec_18',\n",
       "  'rec_19',\n",
       "  'rec_20',\n",
       "  'rec_21',\n",
       "  'rec_22',\n",
       "  'rec_23',\n",
       "  'rec_24'],\n",
       " 'embeddings': None,\n",
       " 'documents': ['Artificial intelligence is transforming modern healthcare through diagnostic tools.',\n",
       "  'Machine learning algorithms can predict patient outcomes with high accuracy.',\n",
       "  'Neural networks require large amounts of training data to be effective.',\n",
       "  'Cloud computing enables scalable AI deployment across industries.',\n",
       "  'Natural language processing allows computers to understand human speech.',\n",
       "  'Deep learning models excel at image recognition tasks.',\n",
       "  'Data privacy remains a major concern in AI implementation.',\n",
       "  'Quantum computing promises to revolutionize complex calculations.',\n",
       "  'Robotics automation is changing manufacturing processes worldwide.',\n",
       "  'Computer vision systems can identify objects in real-time video.',\n",
       "  'Ethical AI development requires careful consideration of bias.',\n",
       "  'The Internet of Things connects everyday devices to the cloud.',\n",
       "  'Blockchain technology provides secure decentralized transactions.',\n",
       "  '5G networks enable faster data transfer for mobile applications.',\n",
       "  'Virtual reality creates immersive digital experiences for users.',\n",
       "  'Cybersecurity threats continue to evolve with advancing technology.',\n",
       "  'Big data analytics helps businesses make informed decisions.',\n",
       "  'Autonomous vehicles use sensors and AI to navigate roads safely.',\n",
       "  'Edge computing processes data closer to the source for reduced latency.',\n",
       "  'Augmented reality overlays digital information onto the real world.',\n",
       "  'Python is the most popular programming language for data science.',\n",
       "  'Reinforcement learning allows AI to learn through trial and error.',\n",
       "  'Semiconductor chips are essential components in all computing devices.',\n",
       "  'Digital transformation affects every industry in the modern economy.',\n",
       "  'AI ethics committees are being formed to guide responsible development.'],\n",
       " 'uris': None,\n",
       " 'included': ['metadatas', 'documents'],\n",
       " 'data': None,\n",
       " 'metadatas': [None,\n",
       "  None,\n",
       "  None,\n",
       "  None,\n",
       "  None,\n",
       "  None,\n",
       "  None,\n",
       "  None,\n",
       "  None,\n",
       "  None,\n",
       "  None,\n",
       "  None,\n",
       "  None,\n",
       "  None,\n",
       "  None,\n",
       "  None,\n",
       "  None,\n",
       "  None,\n",
       "  None,\n",
       "  None,\n",
       "  None,\n",
       "  None,\n",
       "  None,\n",
       "  None,\n",
       "  None]}"
      ]
     },
     "execution_count": 22,
     "metadata": {},
     "output_type": "execute_result"
    }
   ],
   "source": [
    "chroma_collection.get()"
   ]
  },
  {
   "cell_type": "code",
   "execution_count": 24,
   "id": "cf98e59f-c459-462a-8bae-8c0f81773e8a",
   "metadata": {},
   "outputs": [
    {
     "data": {
      "text/plain": [
       "'AI in healthcare'"
      ]
     },
     "execution_count": 24,
     "metadata": {},
     "output_type": "execute_result"
    }
   ],
   "source": [
    "query"
   ]
  },
  {
   "cell_type": "code",
   "execution_count": 27,
   "id": "f2982e38-d7cf-4e92-a6ae-4fc47396bebf",
   "metadata": {},
   "outputs": [],
   "source": [
    "query_vec = generate_embeddings(text=query).reshape(1, -1)"
   ]
  },
  {
   "cell_type": "code",
   "execution_count": 28,
   "id": "e07b7a2f-972f-4ec0-9bfa-3af28ec059da",
   "metadata": {},
   "outputs": [],
   "source": [
    "result = chroma_collection.query(query_embeddings=query_vec,n_results=2)"
   ]
  },
  {
   "cell_type": "code",
   "execution_count": 29,
   "id": "08405ef8-dad5-4ba5-8270-612da734ecad",
   "metadata": {},
   "outputs": [
    {
     "name": "stdout",
     "output_type": "stream",
     "text": [
      "{'ids': [['rec_0', 'rec_3']], 'embeddings': None, 'documents': [['Artificial intelligence is transforming modern healthcare through diagnostic tools.', 'Cloud computing enables scalable AI deployment across industries.']], 'uris': None, 'included': ['metadatas', 'documents', 'distances'], 'data': None, 'metadatas': [[None, None]], 'distances': [[0.7103437781333923, 0.9832593202590942]]}\n"
     ]
    }
   ],
   "source": [
    "print(result)"
   ]
  },
  {
   "cell_type": "code",
   "execution_count": 34,
   "id": "5bbe63af-b749-4320-89fc-87a6a1c894e7",
   "metadata": {},
   "outputs": [],
   "source": [
    "def print_chroma_results_detailed(result, query_text=None):\n",
    "    \"\"\"\n",
    "    Detailed formatting with metadata support.\n",
    "    \"\"\"\n",
    "    if query_text:\n",
    "        print(f\"🔍 QUERY: '{query_text}'\")\n",
    "        print(\"=\" * 80)\n",
    "    \n",
    "    documents = result['documents'][0]\n",
    "    distances = result['distances'][0]\n",
    "    ids = result['ids'][0]\n",
    "    metadatas = result['metadatas'][0] if result['metadatas'] else [None] * len(documents)\n",
    "    \n",
    "    print(f\"📊 Found {len(documents)} results (lower distance = more similar)\\n\")\n",
    "    \n",
    "    for i, (doc_id, document, distance, metadata) in enumerate(zip(ids, documents, distances, metadatas)):\n",
    "        print(f\"🏆 RANK {i+1} | Distance: {distance:.4f} | ID: {doc_id}\")\n",
    "        print(f\"📄 Document: {document}\")\n",
    "        if metadata:\n",
    "            print(f\"📋 Metadata: {metadata}\")\n",
    "        print(\"-\" * 80)"
   ]
  },
  {
   "cell_type": "code",
   "execution_count": 35,
   "id": "f9035b56-f1d9-45e0-b81a-380d3ee77c95",
   "metadata": {},
   "outputs": [
    {
     "name": "stdout",
     "output_type": "stream",
     "text": [
      "🔍 QUERY: 'AI in healthcare'\n",
      "================================================================================\n",
      "📊 Found 2 results (lower distance = more similar)\n",
      "\n",
      "🏆 RANK 1 | Distance: 0.7103 | ID: rec_0\n",
      "📄 Document: Artificial intelligence is transforming modern healthcare through diagnostic tools.\n",
      "--------------------------------------------------------------------------------\n",
      "🏆 RANK 2 | Distance: 0.9833 | ID: rec_3\n",
      "📄 Document: Cloud computing enables scalable AI deployment across industries.\n",
      "--------------------------------------------------------------------------------\n"
     ]
    }
   ],
   "source": [
    "print_chroma_results_detailed(result, query_text=query)"
   ]
  },
  {
   "cell_type": "code",
   "execution_count": null,
   "id": "25444a5f-23f4-49eb-b395-b41585e30288",
   "metadata": {},
   "outputs": [],
   "source": []
  }
 ],
 "metadata": {
  "kernelspec": {
   "display_name": "Python 3 (ipykernel)",
   "language": "python",
   "name": "python3"
  },
  "language_info": {
   "codemirror_mode": {
    "name": "ipython",
    "version": 3
   },
   "file_extension": ".py",
   "mimetype": "text/x-python",
   "name": "python",
   "nbconvert_exporter": "python",
   "pygments_lexer": "ipython3",
   "version": "3.13.7"
  }
 },
 "nbformat": 4,
 "nbformat_minor": 5
}
