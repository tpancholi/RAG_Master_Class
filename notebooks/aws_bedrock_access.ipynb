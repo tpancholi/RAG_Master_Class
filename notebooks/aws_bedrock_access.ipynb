{
 "cells": [
  {
   "cell_type": "markdown",
   "id": "0",
   "metadata": {},
   "source": [
    "# AWS Bedrock Titan Text Embedding access\n"
   ]
  },
  {
   "cell_type": "code",
   "execution_count": null,
   "id": "1",
   "metadata": {},
   "outputs": [],
   "source": [
    "from __future__ import annotations\n",
    "\n",
    "import json\n",
    "\n",
    "import boto3"
   ]
  },
  {
   "cell_type": "code",
   "execution_count": null,
   "id": "2",
   "metadata": {},
   "outputs": [],
   "source": [
    "from botocore.exceptions import ClientError"
   ]
  },
  {
   "cell_type": "code",
   "execution_count": null,
   "id": "3",
   "metadata": {},
   "outputs": [],
   "source": [
    "import os\n",
    "\n",
    "from dotenv import find_dotenv, load_dotenv\n",
    "\n",
    "load_dotenv(find_dotenv())\n",
    "AWS_BEARER_TOKEN_BEDROCK = os.getenv(\"AWS_BEARER_TOKEN_BEDROCK\")"
   ]
  },
  {
   "cell_type": "code",
   "execution_count": null,
   "id": "4",
   "metadata": {},
   "outputs": [],
   "source": [
    "def generate_embedding(model_id, body):\n",
    "\t\"\"\"\n",
    "\tGenerate an embedding with the vector representation of a text input using \\\n",
    "\tAmazon Titan Embeddings G1 - Text on demand.\n",
    "\tArgs:\n",
    "\tmodel_id (str): The model ID to use.\n",
    "\tbody (str) : The request body to use.\n",
    "\tReturns:\n",
    "\tresponse (JSON): The embedding created by the model and the number of input tokens.\n",
    "\t\"\"\"\n",
    "\n",
    "\tprint(f\"Generating an embedding with Amazon Titan Embedding model {model_id}\")\n",
    "\n",
    "\tbedrock = boto3.client(service_name=\"bedrock-runtime\", region_name=\"ap-south-1\")\n",
    "\n",
    "\taccept = \"application/json\"\n",
    "\tcontent_type = \"application/json\"\n",
    "\n",
    "\tresponse = bedrock.invoke_model(\n",
    "\t\tbody=body, modelId=model_id, accept=accept, contentType=content_type\n",
    "\t)\n",
    "\n",
    "\treturn json.loads(response.get(\"body\").read())"
   ]
  },
  {
   "cell_type": "code",
   "execution_count": null,
   "id": "5",
   "metadata": {},
   "outputs": [],
   "source": [
    "model_id = \"amazon.titan-embed-text-v2:0\"  # amazon.titan-embed-image-v1\n",
    "input_text = \"What are the different services that you offer?\""
   ]
  },
  {
   "cell_type": "code",
   "execution_count": null,
   "id": "6",
   "metadata": {},
   "outputs": [],
   "source": [
    "body = json.dumps(\n",
    "\t{\n",
    "\t\t\"inputText\": input_text,\n",
    "\t\t\"dimensions\": 1024,  # other option is 512, 256\n",
    "\t\t\"normalize\": True,\n",
    "\t\t\"embeddingTypes\": [\n",
    "\t\t\t\"float\"\n",
    "\t\t],  # other option is [\"binary\"] or [\"float\", \"binary\"]\n",
    "\t}\n",
    ")"
   ]
  },
  {
   "cell_type": "code",
   "execution_count": null,
   "id": "7",
   "metadata": {},
   "outputs": [],
   "source": [
    "try:\n",
    "\tresponse = generate_embedding(model_id, body)\n",
    "\t# print(f\"Generated an embedding: {response['embedding']}\")\n",
    "\tprint(\n",
    "\t\tf\"Generated an embedding: {response['embedding'][:10]}...\"\n",
    "\t)  # print first 10 values\n",
    "\tprint(f\"Input Token count:  {response['inputTextTokenCount']}\")\n",
    "except ClientError as err:\n",
    "\tmessage = err.response[\"Error\"][\"Message\"]\n",
    "\tprint(f\"A client error occurred: {message}\")"
   ]
  },
  {
   "cell_type": "code",
   "execution_count": null,
   "id": "8",
   "metadata": {},
   "outputs": [],
   "source": [
    "len(response[\"embedding\"])"
   ]
  },
  {
   "cell_type": "code",
   "execution_count": null,
   "id": "9",
   "metadata": {},
   "outputs": [],
   "source": [
    "type(response[\"embedding\"][0])"
   ]
  },
  {
   "cell_type": "code",
   "execution_count": null,
   "id": "10",
   "metadata": {},
   "outputs": [],
   "source": [
    "print(type(response[\"embedding\"]))"
   ]
  },
  {
   "cell_type": "code",
   "execution_count": null,
   "id": "11",
   "metadata": {},
   "outputs": [],
   "source": [
    "import numpy as np"
   ]
  },
  {
   "cell_type": "code",
   "execution_count": null,
   "id": "12",
   "metadata": {},
   "outputs": [],
   "source": [
    "embedding = np.array(response[\"embedding\"], dtype=np.float32)"
   ]
  },
  {
   "cell_type": "code",
   "execution_count": null,
   "id": "13",
   "metadata": {},
   "outputs": [],
   "source": [
    "type(embedding)"
   ]
  },
  {
   "cell_type": "code",
   "execution_count": null,
   "id": "14",
   "metadata": {},
   "outputs": [],
   "source": [
    "embedding[:10]"
   ]
  },
  {
   "cell_type": "code",
   "execution_count": null,
   "id": "15",
   "metadata": {},
   "outputs": [],
   "source": []
  }
 ],
 "metadata": {
  "kernelspec": {
   "display_name": "rag-master-class",
   "language": "python",
   "name": "python3"
  },
  "language_info": {
   "codemirror_mode": {
    "name": "ipython",
    "version": 3
   },
   "file_extension": ".py",
   "mimetype": "text/x-python",
   "name": "python",
   "nbconvert_exporter": "python",
   "pygments_lexer": "ipython3",
   "version": "3.13.7"
  }
 },
 "nbformat": 4,
 "nbformat_minor": 5
}
