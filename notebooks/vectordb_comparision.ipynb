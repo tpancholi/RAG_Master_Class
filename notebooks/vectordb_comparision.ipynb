{
 "cells": [
  {
   "cell_type": "markdown",
   "id": "32fd21586f5f26cf",
   "metadata": {
    "ExecuteTime": {
     "end_time": "2025-09-23T05:18:46.451912Z",
     "start_time": "2025-09-23T05:18:46.450311Z"
    },
    "collapsed": true
   },
   "source": "# Vector DB comparision"
  },
  {
   "cell_type": "markdown",
   "id": "4d3efe9039e8ebcd",
   "metadata": {},
   "source": "## [Vector DB Dashboard](https://superlinked.com/vector-db-comparison) -> Click to get more information"
  },
  {
   "cell_type": "markdown",
   "id": "cb8bbe18497079d0",
   "metadata": {
    "ExecuteTime": {
     "end_time": "2025-09-23T06:58:12.350100Z",
     "start_time": "2025-09-23T06:58:12.264685Z"
    }
   },
   "source": [
    "|       **Feature**      |      **FAISS**      |                        **ChromaDB**                       |      **Pinecone**      |                          **Weaviate**                          |                    **Qdrant**                    |            LanceDB            |\n",
    "|:----------------------:|:-------------------:|:---------------------------------------------------------:|:----------------------:|:--------------------------------------------------------------:|:------------------------------------------------:|:-----------------------------:|\n",
    "| **Type**               | Library             | Library + DB                                              | Managed Cloud DB       | Managed DB + OSS                                               | Managed DB + OSS                                 | Managed DB + OSS              |\n",
    "| **Hosting**            | Local               | Local (some cloud support)                                | Cloud-only             | Cloud & Self-host                                              | Cloud & Self-host                                | Cloud & Self-host             |\n",
    "| **Persistant Storage** | No (in-memory)      | Yes                                                       | Yes                    | Yes                                                            | Yes                                              | Yes (s3)                      |\n",
    "| **Scalability**        | Manual              | Limited                                                   | Auto-scaling           | Auto-scaling                                                   | Auto-scaling                                     | Auto-scaling                  |\n",
    "| **API Access**         | No REST API         | Python API                                                | REST/gRPC API          | REST/gRPC API                                                  | REST/gRPC API                                    | Pandas Style API              |\n",
    "| **Indexing Option**    | IVF, HNSW, PQ, Flat | HNSW, SPANN                                               | Proprietery            | HNSW, Flat, IVF, Flat-BQ                                       | HNSW, IVF, PQ                                    | HNSW, IVF, PQ                 |\n",
    "| **BM-25**              | No                  | No                                                        | No                     | Yes                                                            | No                                               | Yes                           |\n",
    "| **Hybrid search**      | No                  | No                                                        | Yes                    | Yes                                                            | Yes                                              | Yes                           |\n",
    "| **Metadata Filtering** | Manual              | Built-in                                                  | Built-in               | Built-in                                                       | Built-in                                         | Built-in (limited)            |\n",
    "| **Replication**        | No                  | No                                                        | Yes                    | Yes                                                            | Yes                                              | NA                            |\n",
    "| **Embeddings Storage** | Vectors only        | Vectors + Metadata + Documents                            | Vectors + Metadata     | Vectors + Metadata + Schema                                    | Vectors +  Payload (Custom  metadata)            | tabular + vector              |\n",
    "| **Integrations**       | Custom              | Langchain, Lllamaindex                                    | Langchain, Lllamaindex | Langchain, Lllamaindex                                         | Langchain, Lllamaindex                           | Langchain, Lllamaindex        |\n",
    "| **License**            | MIT                 | Apache 2.0                                                | Proprietery SaaS       | BSD                                                            | Apache 2.0                                       | Apache 2.0                    |\n",
    "| **Best For**           | Fast local search   | Embedding + metadata                                      | Production Saas        | Knowledge graph &  vector search                               | Vector Search  with filtering                    | Tabular data +  Vector search |\n",
    "| **Docker image**       | No                  | [chromadb](https://hub.docker.com/r/chromadb/chroma/tags) | NA                     | [weaviate](https://hub.docker.com/r/semitechnologies/weaviate) | [qdrant](https://hub.docker.com/r/qdrant/qdrant) | NA                            |\n",
    "| **Dev Language**       | C++                 | rust                                                      | rust                   | go                                                             | rust                                             | rust                          |\n",
    "| **Multi-tenant**       | No                  | Yes                                                       | Yes (via namespace)    | Yes                                                            | Yes (via collection/metadata)                    | No                            |"
   ]
  },
  {
   "cell_type": "markdown",
   "id": "d2a85be29181d0dd",
   "metadata": {},
   "source": "## Comparing different vector db"
  },
  {
   "cell_type": "markdown",
   "id": "e742e850b7f9ccd9",
   "metadata": {},
   "source": "### Step 1 - Prepare test data"
  },
  {
   "cell_type": "code",
   "execution_count": null,
   "id": "7720de243444ecfc",
   "metadata": {},
   "outputs": [],
   "source": [
    "sentences = [\n",
    "\t\"Artificial intelligence is transforming modern healthcare through diagnostic tools.\",\n",
    "\t\"Machine learning algorithms can predict patient outcomes with high accuracy.\",\n",
    "\t\"Neural networks require large amounts of training data to be effective.\",\n",
    "\t\"Cloud computing enables scalable AI deployment across industries.\",\n",
    "\t\"Natural language processing allows computers to understand human speech.\",\n",
    "\t\"Deep learning models excel at image recognition tasks.\",\n",
    "\t\"Data privacy remains a major concern in AI implementation.\",\n",
    "\t\"Quantum computing promises to revolutionize complex calculations.\",\n",
    "\t\"Robotics automation is changing manufacturing processes worldwide.\",\n",
    "\t\"Computer vision systems can identify objects in real-time video.\",\n",
    "\t\"Ethical AI development requires careful consideration of bias.\",\n",
    "\t\"The Internet of Things connects everyday devices to the cloud.\",\n",
    "\t\"Blockchain technology provides secure decentralized transactions.\",\n",
    "\t\"5G networks enable faster data transfer for mobile applications.\",\n",
    "\t\"Virtual reality creates immersive digital experiences for users.\",\n",
    "\t\"Cybersecurity threats continue to evolve with advancing technology.\",\n",
    "\t\"Big data analytics helps businesses make informed decisions.\",\n",
    "\t\"Autonomous vehicles use sensors and AI to navigate roads safely.\",\n",
    "\t\"Edge computing processes data closer to the source for reduced latency.\",\n",
    "\t\"Augmented reality overlays digital information onto the real world.\",\n",
    "\t\"Python is the most popular programming language for data science.\",\n",
    "\t\"Reinforcement learning allows AI to learn through trial and error.\",\n",
    "\t\"Semiconductor chips are essential components in all computing devices.\",\n",
    "\t\"Digital transformation affects every industry in the modern economy.\",\n",
    "\t\"AI ethics committees are being formed to guide responsible development.\",\n",
    "]"
   ]
  },
  {
   "cell_type": "code",
   "execution_count": null,
   "id": "ab4da011669ee624",
   "metadata": {},
   "outputs": [],
   "source": [
    "queries = [\n",
    "\t\"AI in healthcare\",\n",
    "\t\"Machine learning applications\",\n",
    "\t\"Technology security concerns\",\n",
    "\t\"Neural networks and data requirements\",\n",
    "\t\"Real-time computer vision systems\",\n",
    "]"
   ]
  },
  {
   "cell_type": "code",
   "execution_count": 3,
   "id": "a7950d81172b64f8",
   "metadata": {
    "ExecuteTime": {
     "end_time": "2025-09-23T10:00:33.469666Z",
     "start_time": "2025-09-23T10:00:33.462800Z"
    }
   },
   "outputs": [],
   "source": [
    "import os\n",
    "from dotenv import load_dotenv, find_dotenv\n",
    "\n",
    "load_dotenv(find_dotenv())\n",
    "EURI_API_KEY = os.getenv(\"EURI_API_KEY\")"
   ]
  },
  {
   "cell_type": "code",
   "execution_count": 4,
   "id": "63799dd331c299af",
   "metadata": {
    "ExecuteTime": {
     "end_time": "2025-09-23T10:03:13.260825Z",
     "start_time": "2025-09-23T10:03:13.230252Z"
    }
   },
   "outputs": [],
   "source": [
    "import requests\n",
    "import numpy as np"
   ]
  },
  {
   "cell_type": "code",
   "execution_count": 5,
   "id": "f476ae83cd83f846",
   "metadata": {
    "ExecuteTime": {
     "end_time": "2025-09-23T10:03:31.785187Z",
     "start_time": "2025-09-23T10:03:31.782404Z"
    }
   },
   "outputs": [],
   "source": [
    "def generate_embeddings(text: str) -> np.ndarray:\n",
    "\turl = \"https://api.euron.one/api/v1/euri/embeddings\"\n",
    "\theaders = {\n",
    "\t\t\"Content-Type\": \"application/json\",\n",
    "\t\t\"Authorization\": f\"Bearer {EURI_API_KEY}\",\n",
    "\t}\n",
    "\tpayload = {\"input\": text, \"model\": \"text-embedding-3-small\"}\n",
    "\n",
    "\tresponse = requests.post(url, headers=headers, json=payload)\n",
    "\tdata = response.json()\n",
    "\n",
    "\tembedding = np.array(data[\"data\"][0][\"embedding\"], dtype=np.float32)\n",
    "\n",
    "\treturn embedding"
   ]
  },
  {
   "cell_type": "code",
   "execution_count": 6,
   "id": "3924358f20c9e4bd",
   "metadata": {
    "ExecuteTime": {
     "end_time": "2025-09-23T10:03:38.290197Z",
     "start_time": "2025-09-23T10:03:37.300973Z"
    }
   },
   "outputs": [
    {
     "name": "stdout",
     "output_type": "stream",
     "text": [
      "embdding shape: (1536,) and embedding type: <class 'numpy.ndarray'>\n"
     ]
    }
   ],
   "source": [
    "text = \"The weather is sunny today.\"\n",
    "\n",
    "embedding = generate_embeddings(text)"
   ]
  },
  {
   "cell_type": "code",
   "execution_count": 8,
   "id": "51841f99d0e920c2",
   "metadata": {
    "ExecuteTime": {
     "end_time": "2025-09-23T10:05:40.290686Z",
     "start_time": "2025-09-23T10:05:40.288766Z"
    }
   },
   "outputs": [
    {
     "name": "stdout",
     "output_type": "stream",
     "text": [
      "embedding shape: (1536,) and embedding type: float32\n"
     ]
    }
   ],
   "source": [
    "print(f\"embedding shape: {embedding.shape} and embedding type: {embedding.dtype}\")"
   ]
  },
  {
   "cell_type": "code",
   "execution_count": 9,
   "id": "8d940e1108ad663c",
   "metadata": {
    "ExecuteTime": {
     "end_time": "2025-09-23T10:07:30.738683Z",
     "start_time": "2025-09-23T10:07:05.381995Z"
    }
   },
   "outputs": [],
   "source": [
    "embeddings = []\n",
    "for i in sentences:\n",
    "\temb = generate_embeddings(text=i)\n",
    "\tembeddings.append(emb)"
   ]
  },
  {
   "cell_type": "code",
   "execution_count": 11,
   "id": "c95f5dafd5613f24",
   "metadata": {
    "ExecuteTime": {
     "end_time": "2025-09-23T10:08:06.194385Z",
     "start_time": "2025-09-23T10:08:06.188580Z"
    }
   },
   "outputs": [
    {
     "data": {
      "text/plain": [
       "[array([ 0.0098142 , -0.02956349,  0.0170677 , ...,  0.00462685,\n",
       "        -0.03077241,  0.02712368], shape=(1536,), dtype=float32),\n",
       " array([-0.00839084, -0.00398261,  0.03710102, ..., -0.00083121,\n",
       "        -0.01360887, -0.00225663], shape=(1536,), dtype=float32),\n",
       " array([ 0.00686272,  0.0106579 ,  0.03276936, ..., -0.02073997,\n",
       "         0.00420348,  0.01802838], shape=(1536,), dtype=float32),\n",
       " array([-0.00989157, -0.03057791,  0.04363609, ..., -0.01714974,\n",
       "        -0.01270996,  0.04276554], shape=(1536,), dtype=float32),\n",
       " array([-0.03052658,  0.0204996 , -0.0008052 , ..., -0.00183322,\n",
       "         0.02163397,  0.03516533], shape=(1536,), dtype=float32),\n",
       " array([ 0.01001777, -0.03060824, -0.0151873 , ...,  0.01738751,\n",
       "         0.01140021,  0.0041327 ], shape=(1536,), dtype=float32),\n",
       " array([ 0.03143589,  0.00471424,  0.03636701, ..., -0.01519287,\n",
       "         0.03123043,  0.00258827], shape=(1536,), dtype=float32),\n",
       " array([-0.02738322,  0.01016155, -0.01991831, ..., -0.02638313,\n",
       "         0.02950244,  0.00637553], shape=(1536,), dtype=float32),\n",
       " array([-0.02055381,  0.02474196,  0.04172218, ...,  0.00145248,\n",
       "        -0.00693093,  0.01551209], shape=(1536,), dtype=float32),\n",
       " array([-0.0177723 ,  0.02521844, -0.03726213, ...,  0.02272592,\n",
       "         0.01808648,  0.00461587], shape=(1536,), dtype=float32),\n",
       " array([ 0.02973606,  0.01163347,  0.00553151, ..., -0.00063948,\n",
       "        -0.00135633, -0.00449985], shape=(1536,), dtype=float32),\n",
       " array([-0.01709056,  0.01023951, -0.00510917, ..., -0.00725872,\n",
       "        -0.02168617,  0.0207967 ], shape=(1536,), dtype=float32),\n",
       " array([-0.01642623, -0.03643444,  0.00518486, ...,  0.00528289,\n",
       "        -0.01195406, -0.01021606], shape=(1536,), dtype=float32),\n",
       " array([ 0.02413698,  0.00934047,  0.00349282, ...,  0.00485158,\n",
       "        -0.00846266,  0.05100725], shape=(1536,), dtype=float32),\n",
       " array([-0.03282599,  0.04872898, -0.0259177 , ...,  0.0033904 ,\n",
       "        -0.04202932, -0.01650573], shape=(1536,), dtype=float32),\n",
       " array([ 0.01591941, -0.00216383,  0.05943551, ..., -0.05172668,\n",
       "        -0.02939845,  0.00399981], shape=(1536,), dtype=float32),\n",
       " array([-1.2118887e-05,  1.1634132e-03,  4.4968136e-02, ...,\n",
       "         5.1945751e-03,  1.7673004e-03,  3.5076976e-02],\n",
       "       shape=(1536,), dtype=float32),\n",
       " array([ 0.00865287, -0.00986484, -0.00554968, ...,  0.00273256,\n",
       "        -0.02859112,  0.011167  ], shape=(1536,), dtype=float32),\n",
       " array([-0.0296772 ,  0.00075033,  0.02918869, ..., -0.01924744,\n",
       "        -0.03221747,  0.02532943], shape=(1536,), dtype=float32),\n",
       " array([-0.04113862,  0.0418223 , -0.00848116, ..., -0.03074198,\n",
       "        -0.00490952,  0.02458887], shape=(1536,), dtype=float32),\n",
       " array([ 0.00246521, -0.00036228,  0.03601506, ..., -0.04500079,\n",
       "         0.03247852,  0.0308185 ], shape=(1536,), dtype=float32),\n",
       " array([ 0.00802929, -0.03682851,  0.01725745, ..., -0.03331602,\n",
       "        -0.0342625 ,  0.03140204], shape=(1536,), dtype=float32),\n",
       " array([-0.00180953,  0.00368739, -0.04047453, ..., -0.02777499,\n",
       "         0.02630319,  0.01109107], shape=(1536,), dtype=float32),\n",
       " array([-0.01064683, -0.01766419,  0.0381151 , ..., -0.00772528,\n",
       "        -0.03957588,  0.04454253], shape=(1536,), dtype=float32),\n",
       " array([ 0.03145897, -0.0079595 ,  0.05644928, ..., -0.00096493,\n",
       "         0.00399238,  0.00403344], shape=(1536,), dtype=float32)]"
      ]
     },
     "execution_count": 11,
     "metadata": {},
     "output_type": "execute_result"
    }
   ],
   "source": [
    "embeddings"
   ]
  },
  {
   "cell_type": "code",
   "execution_count": 12,
   "id": "5f82e0d76c5b75c2",
   "metadata": {
    "ExecuteTime": {
     "end_time": "2025-09-23T10:08:07.477545Z",
     "start_time": "2025-09-23T10:08:07.474710Z"
    }
   },
   "outputs": [
    {
     "data": {
      "text/plain": [
       "1536"
      ]
     },
     "execution_count": 12,
     "metadata": {},
     "output_type": "execute_result"
    }
   ],
   "source": [
    "len(embeddings[0])"
   ]
  },
  {
   "cell_type": "code",
   "execution_count": 14,
   "id": "d3ba2014980dac6",
   "metadata": {
    "ExecuteTime": {
     "end_time": "2025-09-23T10:09:10.398351Z",
     "start_time": "2025-09-23T10:09:10.395468Z"
    }
   },
   "outputs": [
    {
     "data": {
      "text/plain": [
       "(25, 1536)"
      ]
     },
     "execution_count": 14,
     "metadata": {},
     "output_type": "execute_result"
    }
   ],
   "source": [
    "embeddings_array = np.vstack(embeddings)\n",
    "embeddings_array.shape"
   ]
  },
  {
   "cell_type": "code",
   "execution_count": null,
   "id": "8db32d4edada22f6",
   "metadata": {},
   "outputs": [],
   "source": [
    "dimension = embeddings_array.shape[1]\n",
    "dimension"
   ]
  },
  {
   "cell_type": "markdown",
   "id": "f488245d7fde0d6b",
   "metadata": {},
   "source": "### Running in FAISS"
  },
  {
   "cell_type": "code",
   "execution_count": null,
   "id": "32d77e6507d36135",
   "metadata": {},
   "outputs": [],
   "source": [
    "import faiss"
   ]
  },
  {
   "cell_type": "code",
   "execution_count": null,
   "id": "3da1e6b591a9bd9d",
   "metadata": {},
   "outputs": [],
   "source": [
    "index = faiss.IndexFlatL2(dimension)\n",
    "index"
   ]
  },
  {
   "cell_type": "code",
   "execution_count": 19,
   "id": "98df46d291189582",
   "metadata": {
    "ExecuteTime": {
     "end_time": "2025-09-23T10:11:11.236366Z",
     "start_time": "2025-09-23T10:11:11.233530Z"
    }
   },
   "outputs": [
    {
     "data": {
      "text/plain": [
       "25"
      ]
     },
     "execution_count": 19,
     "metadata": {},
     "output_type": "execute_result"
    }
   ],
   "source": [
    "index.add(embeddings_array)\n",
    "index.ntotal"
   ]
  },
  {
   "cell_type": "code",
   "execution_count": 20,
   "id": "d2b025eaaff6ac69",
   "metadata": {
    "ExecuteTime": {
     "end_time": "2025-09-23T10:12:44.390409Z",
     "start_time": "2025-09-23T10:12:44.386704Z"
    }
   },
   "outputs": [
    {
     "data": {
      "text/plain": [
       "'AI in healthcare'"
      ]
     },
     "execution_count": 20,
     "metadata": {},
     "output_type": "execute_result"
    }
   ],
   "source": [
    "query = queries[0]\n",
    "query"
   ]
  },
  {
   "cell_type": "code",
   "execution_count": 22,
   "id": "455fb3c690d34764",
   "metadata": {
    "ExecuteTime": {
     "end_time": "2025-09-23T10:14:10.910884Z",
     "start_time": "2025-09-23T10:14:09.918514Z"
    }
   },
   "outputs": [
    {
     "data": {
      "text/plain": [
       "(1, 1536)"
      ]
     },
     "execution_count": 22,
     "metadata": {},
     "output_type": "execute_result"
    }
   ],
   "source": [
    "query_vec = generate_embeddings(text=query).reshape(1, -1)\n",
    "query_vec.shape"
   ]
  },
  {
   "cell_type": "code",
   "execution_count": null,
   "id": "a512019d7a4bb6f9",
   "metadata": {},
   "outputs": [],
   "source": [
    "distance, indices = index.search(query_vec, 2)"
   ]
  },
  {
   "cell_type": "code",
   "execution_count": null,
   "id": "8cc69434317b1960",
   "metadata": {},
   "outputs": [],
   "source": [
    "print(\n",
    "\tf\"Query: {query}\\n\"\n",
    "\tf\"Top 2 most similar sentences:\\n\"\n",
    "\tf\"{sentences[indices[0][0]]}\\n\"\n",
    "\tf\"{sentences[indices[0][1]]}\\n\"\n",
    ")"
   ]
  },
  {
   "cell_type": "code",
   "execution_count": null,
   "id": "332bfeaff47c8d08",
   "metadata": {},
   "outputs": [],
   "source": [
    "# save index to disk\n",
    "faiss.write_index(index, \"../data/faiss_index.faiss\")"
   ]
  }
 ],
 "metadata": {
  "kernelspec": {
   "display_name": "Python 3",
   "language": "python",
   "name": "python3"
  },
  "language_info": {
   "codemirror_mode": {
    "name": "ipython",
    "version": 2
   },
   "file_extension": ".py",
   "mimetype": "text/x-python",
   "name": "python",
   "nbconvert_exporter": "python",
   "pygments_lexer": "ipython2",
   "version": "2.7.6"
  }
 },
 "nbformat": 4,
 "nbformat_minor": 5
}
