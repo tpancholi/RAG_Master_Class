{
 "cells": [
  {
   "cell_type": "code",
   "execution_count": 1,
   "id": "initial_id",
   "metadata": {
    "ExecuteTime": {
     "end_time": "2025-09-18T10:29:41.131044Z",
     "start_time": "2025-09-18T10:29:40.890243Z"
    },
    "collapsed": true
   },
   "outputs": [],
   "source": "from langchain_community.document_loaders import TextLoader"
  },
  {
   "cell_type": "code",
   "execution_count": 2,
   "id": "335b1b6b6b5be09d",
   "metadata": {
    "ExecuteTime": {
     "end_time": "2025-09-18T10:30:13.760108Z",
     "start_time": "2025-09-18T10:30:13.757147Z"
    }
   },
   "outputs": [],
   "source": [
    "documents = TextLoader(\"../data/sample.txt\").load()"
   ]
  },
  {
   "cell_type": "code",
   "execution_count": 3,
   "id": "ce9fad861bceb962",
   "metadata": {
    "ExecuteTime": {
     "end_time": "2025-09-18T10:30:24.459739Z",
     "start_time": "2025-09-18T10:30:24.454891Z"
    }
   },
   "outputs": [
    {
     "data": {
      "text/plain": [
       "'Terms And Conditions\\nThese Terms of Use (\"Terms\") constitute an enforceable contract between you and Euron (\"Euron\", \"we\", or \"our\"), a subsidiary of Engage Sphere Technology Private Limited. By accessing or using our website, mobile applications, and related services (collectively, \"Services\"), you agree to be bound by these Terms. Please review them carefully as they contain important information about your legal rights, remedies, and obligations.\\n\\nTable of Contents\\nAccounts\\nCommunications\\nContent Enrollment and Access\\nPayments and Refunds\\nDigital Product Access & Shipping Policy\\nContent and Behavior Rules\\nEuron\\'s Rights to Content You Post\\nUsing Euron at Your Own Risk\\nEuron\\'s Rights\\nSubscription Terms\\nMiscellaneous Legal Terms\\nDispute Resolution\\nUpdating These Terms\\nHow to Contact Us\\n1. Accounts\\nYou need an account for most activities on our platform. Keep your password somewhere safe because you\\'re responsible for all activity associated with your account. If you suspect someone else is using your account, let us know by contacting our Support Team. You must have reached the age of consent for online services in your country to use Euron.\\n\\n2. Communications\\nBy creating an account on Euron, you grant us permission to contact you regarding important platform communications, updates, and relevant information about our services. While we may send you emails for these purposes, you maintain the right to unsubscribe from our email communications at any time through the unsubscribe option provided in our emails. However, please note that even if you opt out of marketing communications, you may still receive essential account-related and transaction notifications.\\n\\n3. Content Enrollment and Access\\nWhen you enroll in a course or other content, you get a license from us to view it via the Euron Services and no other use. Don\\'t try to transfer or resell content in any way.\\n\\n4. Payments and Refunds\\nWhen you make a payment, you agree to use a valid payment method. We put a lot of effort to bring our content to the world, and we are one of the most affordable platforms for learning in the entire world. We do not provide any refund option for our users.\\n\\n5. Digital Product Access & Shipping Policy\\nUpon successful payment through Razorpay, you will receive access to the purchased digital content or courses immediately. A confirmation email with access instructions will be sent to your registered email address. Please ensure you use the same email address for both login and purchase. Access to the content will last for the duration specified at the time of purchase, and may include downloadable resources. If you encounter any issues with access, please contact our support team. Refunds for digital products are generally not available once access has been granted, except in extenuating circumstances as outlined in our Refund Policy. Your payment information is securely processed through Razorpay, and we do not store your payment details.\\n\\n6. Content and Behavior Rules\\nYou can only use Euron for lawful purposes. You\\'re responsible for all the content that you post on our platform.\\n\\n7. Euron\\'s Rights to Content You Post\\nYou retain ownership of content you post to our platform, including your courses. By posting content, you allow Euron to reuse and share it, but you do not lose any ownership rights you may have.\\n\\n8. Using Euron at Your Own Risk\\nYou use Euron at your own risk. Euron is not responsible for any harm or damage that may result from using our platform.\\n\\n9. Euron\\'s Rights\\nWe own the Euron platform and Services, including the website, applications, APIs, and content created by our employees. You can\\'t tamper with or use them without authorization.\\n\\n10. Subscription Terms\\nAdditional terms apply to subscription-based collections.\\n\\n11. Miscellaneous Legal Terms\\nThese Terms are like any other contract and they have important legal terms that protect us from the countless things that could happen and clarify the legal relationship between us and you.\\n\\n12. Dispute Resolution\\nIf there\\'s a dispute, our Support Team is happy to help resolve the issue.\\n\\n13. Updating These Terms\\nFrom time to time, we may update these Terms to clarify our practices or to reflect new or different practices. If we make any material change, we will notify you using prominent means.\\n\\n14. How to Contact Us\\nThe best way to get in touch with us is to contact our Support Team. We\\'d love to hear your questions, concerns, and feedback about our Services.'"
      ]
     },
     "execution_count": 3,
     "metadata": {},
     "output_type": "execute_result"
    }
   ],
   "source": [
    "documents[0].page_content"
   ]
  },
  {
   "cell_type": "code",
   "execution_count": 4,
   "id": "76e497b2ff0f7e70",
   "metadata": {
    "ExecuteTime": {
     "end_time": "2025-09-18T10:31:17.962144Z",
     "start_time": "2025-09-18T10:31:17.960044Z"
    }
   },
   "outputs": [],
   "source": [
    "from langchain_text_splitters import RecursiveCharacterTextSplitter"
   ]
  },
  {
   "cell_type": "code",
   "execution_count": 7,
   "id": "fd76b6bcd3ad4c77",
   "metadata": {
    "ExecuteTime": {
     "end_time": "2025-09-18T10:37:13.257350Z",
     "start_time": "2025-09-18T10:37:13.252311Z"
    }
   },
   "outputs": [
    {
     "data": {
      "text/plain": [
       "[Document(metadata={'source': '../data/sample.txt'}, page_content='Terms And Conditions'),\n",
       " Document(metadata={'source': '../data/sample.txt'}, page_content='These Terms of Use (\"Terms\") constitute an'),\n",
       " Document(metadata={'source': '../data/sample.txt'}, page_content='an enforceable contract between you and Euron'),\n",
       " Document(metadata={'source': '../data/sample.txt'}, page_content='and Euron (\"Euron\", \"we\", or \"our\"), a subsidiary'),\n",
       " Document(metadata={'source': '../data/sample.txt'}, page_content='of Engage Sphere Technology Private Limited')]"
      ]
     },
     "execution_count": 7,
     "metadata": {},
     "output_type": "execute_result"
    }
   ],
   "source": [
    "spliter = RecursiveCharacterTextSplitter(\n",
    "\tchunk_size=50, chunk_overlap=10, separators=[\"\\n\\n\", \"\\n\", \".\", \"?\", \"!\", \" \", \"\"]\n",
    ")\n",
    "chunks = spliter.split_documents(documents)\n",
    "chunks[:5]"
   ]
  },
  {
   "cell_type": "code",
   "execution_count": 8,
   "id": "b5de3c5f80d026c3",
   "metadata": {
    "ExecuteTime": {
     "end_time": "2025-09-18T10:40:39.992295Z",
     "start_time": "2025-09-18T10:40:39.990413Z"
    }
   },
   "outputs": [],
   "source": [
    "from langchain_text_splitters import CharacterTextSplitter"
   ]
  },
  {
   "cell_type": "code",
   "execution_count": 9,
   "id": "f7e8e5289e851940",
   "metadata": {
    "ExecuteTime": {
     "end_time": "2025-09-18T10:41:35.769360Z",
     "start_time": "2025-09-18T10:41:35.763975Z"
    }
   },
   "outputs": [
    {
     "data": {
      "text/plain": [
       "[Document(metadata={'source': '../data/sample.txt'}, page_content='Terms And Conditions\\nThese Terms of Use (\"Terms\")'),\n",
       " Document(metadata={'source': '../data/sample.txt'}, page_content='(\"Terms\") constitute an enforceable contract'),\n",
       " Document(metadata={'source': '../data/sample.txt'}, page_content='contract between you and Euron (\"Euron\", \"we\", or'),\n",
       " Document(metadata={'source': '../data/sample.txt'}, page_content='\"we\", or \"our\"), a subsidiary of Engage Sphere'),\n",
       " Document(metadata={'source': '../data/sample.txt'}, page_content='Sphere Technology Private Limited. By accessing or'),\n",
       " Document(metadata={'source': '../data/sample.txt'}, page_content='or using our website, mobile applications, and'),\n",
       " Document(metadata={'source': '../data/sample.txt'}, page_content='and related services (collectively, \"Services\"),'),\n",
       " Document(metadata={'source': '../data/sample.txt'}, page_content='you agree to be bound by these Terms. Please'),\n",
       " Document(metadata={'source': '../data/sample.txt'}, page_content='Please review them carefully as they contain'),\n",
       " Document(metadata={'source': '../data/sample.txt'}, page_content='contain important information about your legal'),\n",
       " Document(metadata={'source': '../data/sample.txt'}, page_content='your legal rights, remedies, and'),\n",
       " Document(metadata={'source': '../data/sample.txt'}, page_content='and obligations.\\n\\nTable of'),\n",
       " Document(metadata={'source': '../data/sample.txt'}, page_content='of Contents\\nAccounts\\nCommunications\\nContent'),\n",
       " Document(metadata={'source': '../data/sample.txt'}, page_content='Enrollment and Access\\nPayments and Refunds\\nDigital'),\n",
       " Document(metadata={'source': '../data/sample.txt'}, page_content='Product Access & Shipping Policy\\nContent and'),\n",
       " Document(metadata={'source': '../data/sample.txt'}, page_content=\"and Behavior Rules\\nEuron's Rights to Content You\"),\n",
       " Document(metadata={'source': '../data/sample.txt'}, page_content=\"You Post\\nUsing Euron at Your Own Risk\\nEuron's\"),\n",
       " Document(metadata={'source': '../data/sample.txt'}, page_content='Rights\\nSubscription Terms\\nMiscellaneous Legal'),\n",
       " Document(metadata={'source': '../data/sample.txt'}, page_content='Legal Terms\\nDispute Resolution\\nUpdating These'),\n",
       " Document(metadata={'source': '../data/sample.txt'}, page_content='These Terms\\nHow to Contact Us\\n1. Accounts\\nYou need'),\n",
       " Document(metadata={'source': '../data/sample.txt'}, page_content='need an account for most activities on our'),\n",
       " Document(metadata={'source': '../data/sample.txt'}, page_content='on our platform. Keep your password somewhere safe'),\n",
       " Document(metadata={'source': '../data/sample.txt'}, page_content=\"safe because you're responsible for all activity\"),\n",
       " Document(metadata={'source': '../data/sample.txt'}, page_content='activity associated with your account. If you'),\n",
       " Document(metadata={'source': '../data/sample.txt'}, page_content='If you suspect someone else is using your account,'),\n",
       " Document(metadata={'source': '../data/sample.txt'}, page_content='account, let us know by contacting our Support'),\n",
       " Document(metadata={'source': '../data/sample.txt'}, page_content='Support Team. You must have reached the age of'),\n",
       " Document(metadata={'source': '../data/sample.txt'}, page_content='the age of consent for online services in your'),\n",
       " Document(metadata={'source': '../data/sample.txt'}, page_content='in your country to use Euron.\\n\\n2.'),\n",
       " Document(metadata={'source': '../data/sample.txt'}, page_content='Euron.\\n\\n2. Communications\\nBy creating an account'),\n",
       " Document(metadata={'source': '../data/sample.txt'}, page_content='an account on Euron, you grant us permission to'),\n",
       " Document(metadata={'source': '../data/sample.txt'}, page_content='to contact you regarding important platform'),\n",
       " Document(metadata={'source': '../data/sample.txt'}, page_content='platform communications, updates, and relevant'),\n",
       " Document(metadata={'source': '../data/sample.txt'}, page_content='relevant information about our services. While we'),\n",
       " Document(metadata={'source': '../data/sample.txt'}, page_content='While we may send you emails for these purposes,'),\n",
       " Document(metadata={'source': '../data/sample.txt'}, page_content='purposes, you maintain the right to unsubscribe'),\n",
       " Document(metadata={'source': '../data/sample.txt'}, page_content='from our email communications at any time through'),\n",
       " Document(metadata={'source': '../data/sample.txt'}, page_content='through the unsubscribe option provided in our'),\n",
       " Document(metadata={'source': '../data/sample.txt'}, page_content='in our emails. However, please note that even if'),\n",
       " Document(metadata={'source': '../data/sample.txt'}, page_content='even if you opt out of marketing communications,'),\n",
       " Document(metadata={'source': '../data/sample.txt'}, page_content='you may still receive essential account-related'),\n",
       " Document(metadata={'source': '../data/sample.txt'}, page_content='and transaction notifications.\\n\\n3. Content'),\n",
       " Document(metadata={'source': '../data/sample.txt'}, page_content='Content Enrollment and Access\\nWhen you enroll in a'),\n",
       " Document(metadata={'source': '../data/sample.txt'}, page_content='in a course or other content, you get a license'),\n",
       " Document(metadata={'source': '../data/sample.txt'}, page_content='a license from us to view it via the Euron'),\n",
       " Document(metadata={'source': '../data/sample.txt'}, page_content=\"the Euron Services and no other use. Don't try to\"),\n",
       " Document(metadata={'source': '../data/sample.txt'}, page_content='try to transfer or resell content in any way.\\n\\n4.'),\n",
       " Document(metadata={'source': '../data/sample.txt'}, page_content='way.\\n\\n4. Payments and Refunds\\nWhen you make a'),\n",
       " Document(metadata={'source': '../data/sample.txt'}, page_content='you make a payment, you agree to use a valid'),\n",
       " Document(metadata={'source': '../data/sample.txt'}, page_content='a valid payment method. We put a lot of effort to'),\n",
       " Document(metadata={'source': '../data/sample.txt'}, page_content='effort to bring our content to the world, and we'),\n",
       " Document(metadata={'source': '../data/sample.txt'}, page_content='and we are one of the most affordable platforms'),\n",
       " Document(metadata={'source': '../data/sample.txt'}, page_content='platforms for learning in the entire world. We do'),\n",
       " Document(metadata={'source': '../data/sample.txt'}, page_content='We do not provide any refund option for our'),\n",
       " Document(metadata={'source': '../data/sample.txt'}, page_content='for our users.\\n\\n5. Digital Product Access &'),\n",
       " Document(metadata={'source': '../data/sample.txt'}, page_content='Access & Shipping Policy\\nUpon successful payment'),\n",
       " Document(metadata={'source': '../data/sample.txt'}, page_content='payment through Razorpay, you will receive access'),\n",
       " Document(metadata={'source': '../data/sample.txt'}, page_content='access to the purchased digital content or courses'),\n",
       " Document(metadata={'source': '../data/sample.txt'}, page_content='or courses immediately. A confirmation email with'),\n",
       " Document(metadata={'source': '../data/sample.txt'}, page_content='email with access instructions will be sent to'),\n",
       " Document(metadata={'source': '../data/sample.txt'}, page_content='be sent to your registered email address. Please'),\n",
       " Document(metadata={'source': '../data/sample.txt'}, page_content='Please ensure you use the same email address for'),\n",
       " Document(metadata={'source': '../data/sample.txt'}, page_content='for both login and purchase. Access to the content'),\n",
       " Document(metadata={'source': '../data/sample.txt'}, page_content='content will last for the duration specified at'),\n",
       " Document(metadata={'source': '../data/sample.txt'}, page_content='at the time of purchase, and may include'),\n",
       " Document(metadata={'source': '../data/sample.txt'}, page_content='include downloadable resources. If you encounter'),\n",
       " Document(metadata={'source': '../data/sample.txt'}, page_content='encounter any issues with access, please contact'),\n",
       " Document(metadata={'source': '../data/sample.txt'}, page_content='contact our support team. Refunds for digital'),\n",
       " Document(metadata={'source': '../data/sample.txt'}, page_content='digital products are generally not available once'),\n",
       " Document(metadata={'source': '../data/sample.txt'}, page_content='once access has been granted, except in'),\n",
       " Document(metadata={'source': '../data/sample.txt'}, page_content='except in extenuating circumstances as outlined in'),\n",
       " Document(metadata={'source': '../data/sample.txt'}, page_content='in our Refund Policy. Your payment information is'),\n",
       " Document(metadata={'source': '../data/sample.txt'}, page_content='is securely processed through Razorpay, and we do'),\n",
       " Document(metadata={'source': '../data/sample.txt'}, page_content='and we do not store your payment details.\\n\\n6.'),\n",
       " Document(metadata={'source': '../data/sample.txt'}, page_content='Content and Behavior Rules\\nYou can only use Euron'),\n",
       " Document(metadata={'source': '../data/sample.txt'}, page_content=\"use Euron for lawful purposes. You're responsible\"),\n",
       " Document(metadata={'source': '../data/sample.txt'}, page_content='for all the content that you post on our'),\n",
       " Document(metadata={'source': '../data/sample.txt'}, page_content=\"on our platform.\\n\\n7. Euron's Rights to Content You\"),\n",
       " Document(metadata={'source': '../data/sample.txt'}, page_content='You Post\\nYou retain ownership of content you post'),\n",
       " Document(metadata={'source': '../data/sample.txt'}, page_content='you post to our platform, including your courses.'),\n",
       " Document(metadata={'source': '../data/sample.txt'}, page_content='courses. By posting content, you allow Euron to'),\n",
       " Document(metadata={'source': '../data/sample.txt'}, page_content='Euron to reuse and share it, but you do not lose'),\n",
       " Document(metadata={'source': '../data/sample.txt'}, page_content='not lose any ownership rights you may have.\\n\\n8.'),\n",
       " Document(metadata={'source': '../data/sample.txt'}, page_content='have.\\n\\n8. Using Euron at Your Own Risk\\nYou use'),\n",
       " Document(metadata={'source': '../data/sample.txt'}, page_content='use Euron at your own risk. Euron is not'),\n",
       " Document(metadata={'source': '../data/sample.txt'}, page_content='is not responsible for any harm or damage that may'),\n",
       " Document(metadata={'source': '../data/sample.txt'}, page_content='that may result from using our platform.\\n\\n9.'),\n",
       " Document(metadata={'source': '../data/sample.txt'}, page_content=\"Euron's Rights\\nWe own the Euron platform and\"),\n",
       " Document(metadata={'source': '../data/sample.txt'}, page_content='and Services, including the website, applications,'),\n",
       " Document(metadata={'source': '../data/sample.txt'}, page_content='APIs, and content created by our employees. You'),\n",
       " Document(metadata={'source': '../data/sample.txt'}, page_content=\"You can't tamper with or use them without\"),\n",
       " Document(metadata={'source': '../data/sample.txt'}, page_content='without authorization.\\n\\n10. Subscription'),\n",
       " Document(metadata={'source': '../data/sample.txt'}, page_content='Terms\\nAdditional terms apply to subscription-based'),\n",
       " Document(metadata={'source': '../data/sample.txt'}, page_content='collections.\\n\\n11. Miscellaneous Legal Terms\\nThese'),\n",
       " Document(metadata={'source': '../data/sample.txt'}, page_content='Terms are like any other contract and they have'),\n",
       " Document(metadata={'source': '../data/sample.txt'}, page_content='they have important legal terms that protect us'),\n",
       " Document(metadata={'source': '../data/sample.txt'}, page_content='protect us from the countless things that could'),\n",
       " Document(metadata={'source': '../data/sample.txt'}, page_content='that could happen and clarify the legal'),\n",
       " Document(metadata={'source': '../data/sample.txt'}, page_content='the legal relationship between us and you.\\n\\n12.'),\n",
       " Document(metadata={'source': '../data/sample.txt'}, page_content=\"you.\\n\\n12. Dispute Resolution\\nIf there's a dispute,\"),\n",
       " Document(metadata={'source': '../data/sample.txt'}, page_content='a dispute, our Support Team is happy to help'),\n",
       " Document(metadata={'source': '../data/sample.txt'}, page_content='to help resolve the issue.\\n\\n13. Updating These'),\n",
       " Document(metadata={'source': '../data/sample.txt'}, page_content='These Terms\\nFrom time to time, we may update these'),\n",
       " Document(metadata={'source': '../data/sample.txt'}, page_content='these Terms to clarify our practices or to reflect'),\n",
       " Document(metadata={'source': '../data/sample.txt'}, page_content='to reflect new or different practices. If we make'),\n",
       " Document(metadata={'source': '../data/sample.txt'}, page_content='If we make any material change, we will notify you'),\n",
       " Document(metadata={'source': '../data/sample.txt'}, page_content='notify you using prominent means.\\n\\n14. How to'),\n",
       " Document(metadata={'source': '../data/sample.txt'}, page_content='How to Contact Us\\nThe best way to get in touch'),\n",
       " Document(metadata={'source': '../data/sample.txt'}, page_content='in touch with us is to contact our Support Team.'),\n",
       " Document(metadata={'source': '../data/sample.txt'}, page_content=\"Team. We'd love to hear your questions, concerns,\"),\n",
       " Document(metadata={'source': '../data/sample.txt'}, page_content='concerns, and feedback about our Services.')]"
      ]
     },
     "execution_count": 9,
     "metadata": {},
     "output_type": "execute_result"
    }
   ],
   "source": [
    "char_spliter = CharacterTextSplitter(separator=\" \", chunk_size=50, chunk_overlap=10)\n",
    "char_spliter.split_documents(documents)"
   ]
  },
  {
   "cell_type": "code",
   "execution_count": 10,
   "id": "ef3b4ffd14348720",
   "metadata": {
    "ExecuteTime": {
     "end_time": "2025-09-18T10:42:56.074366Z",
     "start_time": "2025-09-18T10:42:43.873206Z"
    }
   },
   "outputs": [],
   "source": [
    "from langchain_text_splitters import TokenTextSplitter\n",
    "\n",
    "token_text_splitter = TokenTextSplitter(chunk_size=50, chunk_overlap=10)"
   ]
  },
  {
   "cell_type": "code",
   "execution_count": 11,
   "id": "29dea5b3db22f00d",
   "metadata": {
    "ExecuteTime": {
     "end_time": "2025-09-18T10:42:56.084425Z",
     "start_time": "2025-09-18T10:42:56.081812Z"
    }
   },
   "outputs": [
    {
     "data": {
      "text/plain": [
       "[Document(metadata={'source': '../data/sample.txt'}, page_content='Terms And Conditions\\nThese Terms of Use (\"Terms\") constitute an enforceable contract between you and Euron (\"Euron\", \"we\", or \"our\"), a subsidiary of Engage Sphere Technology Private Limited. By accessing or using our website'),\n",
       " Document(metadata={'source': '../data/sample.txt'}, page_content=' Technology Private Limited. By accessing or using our website, mobile applications, and related services (collectively, \"Services\"), you agree to be bound by these Terms. Please review them carefully as they contain important information about your legal rights, remedies, and'),\n",
       " Document(metadata={'source': '../data/sample.txt'}, page_content=' important information about your legal rights, remedies, and obligations.\\n\\nTable of Contents\\nAccounts\\nCommunications\\nContent Enrollment and Access\\nPayments and Refunds\\nDigital Product Access & Shipping Policy\\nContent and Behavior Rules\\nE'),\n",
       " Document(metadata={'source': '../data/sample.txt'}, page_content=\" & Shipping Policy\\nContent and Behavior Rules\\nEuron's Rights to Content You Post\\nUsing Euron at Your Own Risk\\nEuron's Rights\\nSubscription Terms\\nMiscellaneous Legal Terms\\nDispute Resolution\\nUpdating These Terms\\n\"),\n",
       " Document(metadata={'source': '../data/sample.txt'}, page_content=\"Dispute Resolution\\nUpdating These Terms\\nHow to Contact Us\\n1. Accounts\\nYou need an account for most activities on our platform. Keep your password somewhere safe because you're responsible for all activity associated with your account. If you suspect\"),\n",
       " Document(metadata={'source': '../data/sample.txt'}, page_content=' all activity associated with your account. If you suspect someone else is using your account, let us know by contacting our Support Team. You must have reached the age of consent for online services in your country to use Euron.\\n\\n2. Communications'),\n",
       " Document(metadata={'source': '../data/sample.txt'}, page_content=' to use Euron.\\n\\n2. Communications\\nBy creating an account on Euron, you grant us permission to contact you regarding important platform communications, updates, and relevant information about our services. While we may send you emails for these purposes,'),\n",
       " Document(metadata={'source': '../data/sample.txt'}, page_content=' While we may send you emails for these purposes, you maintain the right to unsubscribe from our email communications at any time through the unsubscribe option provided in our emails. However, please note that even if you opt out of marketing communications, you may'),\n",
       " Document(metadata={'source': '../data/sample.txt'}, page_content=' if you opt out of marketing communications, you may still receive essential account-related and transaction notifications.\\n\\n3. Content Enrollment and Access\\nWhen you enroll in a course or other content, you get a license from us to view it via'),\n",
       " Document(metadata={'source': '../data/sample.txt'}, page_content=\" you get a license from us to view it via the Euron Services and no other use. Don't try to transfer or resell content in any way.\\n\\n4. Payments and Refunds\\nWhen you make a payment, you agree\"),\n",
       " Document(metadata={'source': '../data/sample.txt'}, page_content='s\\nWhen you make a payment, you agree to use a valid payment method. We put a lot of effort to bring our content to the world, and we are one of the most affordable platforms for learning in the entire world. We do not'),\n",
       " Document(metadata={'source': '../data/sample.txt'}, page_content=' for learning in the entire world. We do not provide any refund option for our users.\\n\\n5. Digital Product Access & Shipping Policy\\nUpon successful payment through Razorpay, you will receive access to the purchased digital content or courses immediately. A'),\n",
       " Document(metadata={'source': '../data/sample.txt'}, page_content=' to the purchased digital content or courses immediately. A confirmation email with access instructions will be sent to your registered email address. Please ensure you use the same email address for both login and purchase. Access to the content will last for the duration specified at the'),\n",
       " Document(metadata={'source': '../data/sample.txt'}, page_content=' the content will last for the duration specified at the time of purchase, and may include downloadable resources. If you encounter any issues with access, please contact our support team. Refunds for digital products are generally not available once access has been granted,'),\n",
       " Document(metadata={'source': '../data/sample.txt'}, page_content=' are generally not available once access has been granted, except in extenuating circumstances as outlined in our Refund Policy. Your payment information is securely processed through Razorpay, and we do not store your payment details.\\n\\n6. Content and Behavior'),\n",
       " Document(metadata={'source': '../data/sample.txt'}, page_content=\" payment details.\\n\\n6. Content and Behavior Rules\\nYou can only use Euron for lawful purposes. You're responsible for all the content that you post on our platform.\\n\\n7. Euron's Rights to Content You Post\\nYou\"),\n",
       " Document(metadata={'source': '../data/sample.txt'}, page_content=\" Euron's Rights to Content You Post\\nYou retain ownership of content you post to our platform, including your courses. By posting content, you allow Euron to reuse and share it, but you do not lose any ownership rights you may have.\"),\n",
       " Document(metadata={'source': '../data/sample.txt'}, page_content=' do not lose any ownership rights you may have.\\n\\n8. Using Euron at Your Own Risk\\nYou use Euron at your own risk. Euron is not responsible for any harm or damage that may result from using our platform.\\n'),\n",
       " Document(metadata={'source': '../data/sample.txt'}, page_content=\" damage that may result from using our platform.\\n\\n9. Euron's Rights\\nWe own the Euron platform and Services, including the website, applications, APIs, and content created by our employees. You can't tamper with or use\"),\n",
       " Document(metadata={'source': '../data/sample.txt'}, page_content=\" employees. You can't tamper with or use them without authorization.\\n\\n10. Subscription Terms\\nAdditional terms apply to subscription-based collections.\\n\\n11. Miscellaneous Legal Terms\\nThese Terms are like any other contract and they have important\"),\n",
       " Document(metadata={'source': '../data/sample.txt'}, page_content=\" Terms are like any other contract and they have important legal terms that protect us from the countless things that could happen and clarify the legal relationship between us and you.\\n\\n12. Dispute Resolution\\nIf there's a dispute, our Support Team is\"),\n",
       " Document(metadata={'source': '../data/sample.txt'}, page_content=\"If there's a dispute, our Support Team is happy to help resolve the issue.\\n\\n13. Updating These Terms\\nFrom time to time, we may update these Terms to clarify our practices or to reflect new or different practices. If we\"),\n",
       " Document(metadata={'source': '../data/sample.txt'}, page_content=\" or to reflect new or different practices. If we make any material change, we will notify you using prominent means.\\n\\n14. How to Contact Us\\nThe best way to get in touch with us is to contact our Support Team. We'd\"),\n",
       " Document(metadata={'source': '../data/sample.txt'}, page_content=\" us is to contact our Support Team. We'd love to hear your questions, concerns, and feedback about our Services.\")]"
      ]
     },
     "execution_count": 11,
     "metadata": {},
     "output_type": "execute_result"
    }
   ],
   "source": [
    "token_text_splitter.split_documents(documents)"
   ]
  },
  {
   "cell_type": "markdown",
   "id": "df329f9fbcfce20a",
   "metadata": {},
   "source": "## add metadata"
  },
  {
   "cell_type": "code",
   "execution_count": 12,
   "id": "62e6f695bfcc896e",
   "metadata": {
    "ExecuteTime": {
     "end_time": "2025-09-18T10:49:06.885329Z",
     "start_time": "2025-09-18T10:49:06.882054Z"
    }
   },
   "outputs": [
    {
     "data": {
      "text/plain": [
       "{'source': '../data/sample.txt'}"
      ]
     },
     "execution_count": 12,
     "metadata": {},
     "output_type": "execute_result"
    }
   ],
   "source": [
    "documents[0].metadata"
   ]
  },
  {
   "cell_type": "code",
   "execution_count": 16,
   "id": "d933dae32198ebcf",
   "metadata": {
    "ExecuteTime": {
     "end_time": "2025-09-18T10:51:04.583Z",
     "start_time": "2025-09-18T10:51:04.580043Z"
    }
   },
   "outputs": [
    {
     "data": {
      "text/plain": [
       "langchain_core.documents.base.Document"
      ]
     },
     "execution_count": 16,
     "metadata": {},
     "output_type": "execute_result"
    }
   ],
   "source": [
    "type(documents[0])"
   ]
  },
  {
   "cell_type": "code",
   "execution_count": 19,
   "id": "7efb8ca699ac77c5",
   "metadata": {
    "ExecuteTime": {
     "end_time": "2025-09-18T10:53:34.330032Z",
     "start_time": "2025-09-18T10:53:34.327623Z"
    }
   },
   "outputs": [],
   "source": [
    "documents[0].metadata[\"creator\"] = \"Tejas\""
   ]
  },
  {
   "cell_type": "code",
   "execution_count": 20,
   "id": "f900934ef2ea74b7",
   "metadata": {
    "ExecuteTime": {
     "end_time": "2025-09-18T10:53:41.959737Z",
     "start_time": "2025-09-18T10:53:41.957769Z"
    }
   },
   "outputs": [
    {
     "data": {
      "text/plain": [
       "{'source': '../data/sample.txt', 'creator': 'Tejas'}"
      ]
     },
     "execution_count": 20,
     "metadata": {},
     "output_type": "execute_result"
    }
   ],
   "source": [
    "documents[0].metadata"
   ]
  },
  {
   "cell_type": "markdown",
   "id": "7c5e18f928ba398e",
   "metadata": {},
   "source": "## Chunk size recommendation"
  },
  {
   "cell_type": "markdown",
   "id": "69c947eeeb5c419b",
   "metadata": {},
   "source": [
    "| Use case       | Ideal chunk size |\n",
    "|----------------|------------------|\n",
    "| RAG Search     | 300-512          |\n",
    "| Summarization  | 512-10124        |\n",
    "| Q&A            | 500-1000         |\n",
    "| Classification | 100-300          |"
   ]
  },
  {
   "cell_type": "code",
   "execution_count": null,
   "id": "f1ffedbaabc01224",
   "metadata": {},
   "outputs": [],
   "source": []
  }
 ],
 "metadata": {
  "kernelspec": {
   "display_name": "Python 3",
   "language": "python",
   "name": "python3"
  },
  "language_info": {
   "codemirror_mode": {
    "name": "ipython",
    "version": 2
   },
   "file_extension": ".py",
   "mimetype": "text/x-python",
   "name": "python",
   "nbconvert_exporter": "python",
   "pygments_lexer": "ipython2",
   "version": "2.7.6"
  }
 },
 "nbformat": 4,
 "nbformat_minor": 5
}
