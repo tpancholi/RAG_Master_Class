{
 "cells": [
  {
   "cell_type": "code",
   "execution_count": 1,
   "id": "initial_id",
   "metadata": {
    "ExecuteTime": {
     "end_time": "2025-09-18T13:32:08.902972Z",
     "start_time": "2025-09-18T13:32:08.809864Z"
    },
    "collapsed": true
   },
   "outputs": [],
   "source": [
    "import numpy as np"
   ]
  },
  {
   "cell_type": "code",
   "execution_count": 2,
   "id": "8b4821bd6c4b5a3a",
   "metadata": {
    "ExecuteTime": {
     "end_time": "2025-09-18T13:32:35.979290Z",
     "start_time": "2025-09-18T13:32:35.977361Z"
    }
   },
   "outputs": [],
   "source": [
    "def normalize(v):\n",
    "\treturn v / np.linalg.norm(v)"
   ]
  },
  {
   "metadata": {},
   "cell_type": "markdown",
   "source": [
    "## Why cos function is used and not sin or tan\n",
    "- cosign similarity only looks at angle between two items and not magnitude, allowing to compare semantic meaning which is significant in `NLP`\n",
    "- cosign also gives value between -1 and 1, which is not possible with sin or tan\n",
    "- if use sin to compare angle it will be max when they are orthogonal and low when they are near, giving complete reverse info of required\n",
    "- tan because of ratio only gives value when both vector are perpendicular, again would not work for similarity comparision."
   ],
   "id": "ed26c7c2afba033c"
  },
  {
   "cell_type": "code",
   "execution_count": 3,
   "id": "3ba6eed88c559dda",
   "metadata": {
    "ExecuteTime": {
     "end_time": "2025-09-18T13:33:15.597382Z",
     "start_time": "2025-09-18T13:33:15.595002Z"
    }
   },
   "outputs": [],
   "source": [
    "def cosine_fun(a, b):\n",
    "\treturn np.dot(normalize(a), normalize(b))"
   ]
  },
  {
   "cell_type": "code",
   "execution_count": 4,
   "id": "11f803dcc3a0b03e",
   "metadata": {
    "ExecuteTime": {
     "end_time": "2025-09-18T13:34:02.929817Z",
     "start_time": "2025-09-18T13:34:02.927902Z"
    }
   },
   "outputs": [],
   "source": [
    "vec1 = [1, 2, 3]\n",
    "vect2 = [2, 3, 4]\n",
    "vect3 = [-1, -2, -3]"
   ]
  },
  {
   "cell_type": "code",
   "execution_count": 5,
   "id": "c7045f4ee87887de",
   "metadata": {
    "ExecuteTime": {
     "end_time": "2025-09-18T13:34:27.695927Z",
     "start_time": "2025-09-18T13:34:27.693340Z"
    }
   },
   "outputs": [
    {
     "name": "stdout",
     "output_type": "stream",
     "text": [
      "similarity between [1, 2, 3] and [2, 3, 4] is 0.9925833339709303\n",
      "similarity between [1, 2, 3] and [-1, -2, -3] is -1.0\n",
      "similarity between [2, 3, 4] and [-1, -2, -3] is -0.9925833339709303\n"
     ]
    }
   ],
   "source": [
    "print(f\"similarity between {vec1} and {vect2} is {cosine_fun(vec1, vect2)}\")\n",
    "print(f\"similarity between {vec1} and {vect3} is {cosine_fun(vec1, vect3)}\")\n",
    "print(f\"similarity between {vect2} and {vect3} is {cosine_fun(vect2, vect3)}\")"
   ]
  },
  {
   "cell_type": "code",
   "execution_count": 6,
   "id": "7d2a32f2529b426e",
   "metadata": {
    "ExecuteTime": {
     "end_time": "2025-09-18T13:36:22.517929Z",
     "start_time": "2025-09-18T13:36:22.507792Z"
    }
   },
   "outputs": [
    {
     "data": {
      "text/plain": [
       "True"
      ]
     },
     "execution_count": 6,
     "metadata": {},
     "output_type": "execute_result"
    }
   ],
   "source": [
    "import os\n",
    "\n",
    "from dotenv import load_dotenv, find_dotenv\n",
    "\n",
    "load_dotenv(find_dotenv())"
   ]
  },
  {
   "cell_type": "code",
   "execution_count": 7,
   "id": "2163a7acfd3c26cb",
   "metadata": {
    "ExecuteTime": {
     "end_time": "2025-09-18T13:36:23.566742Z",
     "start_time": "2025-09-18T13:36:23.564521Z"
    }
   },
   "outputs": [],
   "source": [
    "API_KEY = os.getenv(\"EURI_API_KEY\")"
   ]
  },
  {
   "cell_type": "code",
   "execution_count": 8,
   "id": "28f379e5c1501de2",
   "metadata": {
    "ExecuteTime": {
     "end_time": "2025-09-18T13:36:38.994247Z",
     "start_time": "2025-09-18T13:36:38.955471Z"
    }
   },
   "outputs": [],
   "source": [
    "import requests"
   ]
  },
  {
   "cell_type": "code",
   "execution_count": 9,
   "id": "86901fb91fc357f3",
   "metadata": {
    "ExecuteTime": {
     "end_time": "2025-09-18T13:36:53.343609Z",
     "start_time": "2025-09-18T13:36:53.340986Z"
    }
   },
   "outputs": [],
   "source": [
    "def generate_embeddings(text):\n",
    "\turl = \"https://api.euron.one/api/v1/euri/embeddings\"\n",
    "\theaders = {\"Content-Type\": \"application/json\", \"Authorization\": f\"Bearer {API_KEY}\"}\n",
    "\tpayload = {\"input\": text, \"model\": \"text-embedding-3-small\"}\n",
    "\n",
    "\tresponse = requests.post(url, headers=headers, json=payload)\n",
    "\tdata = response.json()\n",
    "\n",
    "\t# convert to numpy array for vector operations\n",
    "\tembedding = np.array(data[\"data\"][0][\"embedding\"])\n",
    "\n",
    "\treturn embedding"
   ]
  },
  {
   "cell_type": "code",
   "execution_count": 14,
   "id": "c22e516ea225087b",
   "metadata": {
    "ExecuteTime": {
     "end_time": "2025-09-18T13:40:06.901320Z",
     "start_time": "2025-09-18T13:40:06.899152Z"
    }
   },
   "outputs": [],
   "source": [
    "text1 = \"my name is Tejas\"\n",
    "text2 = \"I am Tejas\"\n",
    "text3 = \"Gen AI is awesome\""
   ]
  },
  {
   "cell_type": "code",
   "execution_count": 15,
   "id": "48579641bd405ea1",
   "metadata": {
    "ExecuteTime": {
     "end_time": "2025-09-18T13:40:13.898548Z",
     "start_time": "2025-09-18T13:40:09.622141Z"
    }
   },
   "outputs": [],
   "source": [
    "embd1 = generate_embeddings(text1)\n",
    "embd2 = generate_embeddings(text2)\n",
    "embd3 = generate_embeddings(text3)"
   ]
  },
  {
   "cell_type": "code",
   "execution_count": 13,
   "id": "afb3150613aff198",
   "metadata": {
    "ExecuteTime": {
     "end_time": "2025-09-18T13:39:20.842588Z",
     "start_time": "2025-09-18T13:39:20.840121Z"
    }
   },
   "outputs": [
    {
     "name": "stdout",
     "output_type": "stream",
     "text": [
      "similarity between `my name is Tejas` and `I am Tejas` is 0.8946471153891769\n"
     ]
    }
   ],
   "source": [
    "print(f\"similarity between `{text1}` and `{text2}` is {cosine_fun(embd1, embd2)}\")"
   ]
  },
  {
   "cell_type": "code",
   "execution_count": 16,
   "id": "3a0132dbea2acba2",
   "metadata": {
    "ExecuteTime": {
     "end_time": "2025-09-18T13:40:28.301016Z",
     "start_time": "2025-09-18T13:40:28.298772Z"
    }
   },
   "outputs": [
    {
     "name": "stdout",
     "output_type": "stream",
     "text": [
      "similarity between `my name is Tejas` and `Gen AI is awesome` is 0.14948278342980978\n"
     ]
    }
   ],
   "source": [
    "print(f\"similarity between `{text1}` and `{text3}` is {cosine_fun(embd1, embd3)}\")"
   ]
  },
  {
   "cell_type": "code",
   "execution_count": null,
   "id": "5c9b4e923bcb6f5f",
   "metadata": {},
   "outputs": [],
   "source": []
  }
 ],
 "metadata": {
  "kernelspec": {
   "display_name": "Python 3",
   "language": "python",
   "name": "python3"
  },
  "language_info": {
   "codemirror_mode": {
    "name": "ipython",
    "version": 2
   },
   "file_extension": ".py",
   "mimetype": "text/x-python",
   "name": "python",
   "nbconvert_exporter": "python",
   "pygments_lexer": "ipython2",
   "version": "2.7.6"
  }
 },
 "nbformat": 4,
 "nbformat_minor": 5
}
