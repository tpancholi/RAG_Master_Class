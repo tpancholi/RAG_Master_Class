{
 "cells": [
  {
   "cell_type": "code",
   "execution_count": null,
   "id": "0",
   "metadata": {},
   "outputs": [],
   "source": [
    "from __future__ import annotations\n",
    "\n",
    "import numpy as np"
   ]
  },
  {
   "cell_type": "code",
   "execution_count": null,
   "id": "1",
   "metadata": {},
   "outputs": [],
   "source": [
    "def normalize(v):\n",
    "\treturn v / np.linalg.norm(v)"
   ]
  },
  {
   "cell_type": "markdown",
   "id": "2",
   "metadata": {},
   "source": [
    "## Why cos function is used and not sin or tan\n",
    "\n",
    "- cosign similarity only looks at angle between two items and not magnitude, allowing to compare semantic meaning which is significant in `NLP`\n",
    "- cosign also gives value between -1 and 1, which is not possible with sin or tan\n",
    "- if use sin to compare angle it will be max when they are orthogonal and low when they are near, giving complete reverse info of required\n",
    "- tan because of ratio only gives value when both vector are perpendicular, again would not work for similarity comparision.\n"
   ]
  },
  {
   "cell_type": "code",
   "execution_count": null,
   "id": "3",
   "metadata": {},
   "outputs": [],
   "source": [
    "def cosine_fun(a, b):\n",
    "\treturn np.dot(normalize(a), normalize(b))"
   ]
  },
  {
   "cell_type": "code",
   "execution_count": null,
   "id": "4",
   "metadata": {},
   "outputs": [],
   "source": [
    "vec1 = [1, 2, 3]\n",
    "vect2 = [2, 3, 4]\n",
    "vect3 = [-1, -2, -3]"
   ]
  },
  {
   "cell_type": "code",
   "execution_count": null,
   "id": "5",
   "metadata": {},
   "outputs": [],
   "source": [
    "print(f\"similarity between {vec1} and {vect2} is {cosine_fun(vec1, vect2)}\")\n",
    "print(f\"similarity between {vec1} and {vect3} is {cosine_fun(vec1, vect3)}\")\n",
    "print(f\"similarity between {vect2} and {vect3} is {cosine_fun(vect2, vect3)}\")"
   ]
  },
  {
   "cell_type": "code",
   "execution_count": null,
   "id": "6",
   "metadata": {},
   "outputs": [],
   "source": [
    "import os\n",
    "\n",
    "from dotenv import find_dotenv, load_dotenv\n",
    "\n",
    "load_dotenv(find_dotenv())"
   ]
  },
  {
   "cell_type": "code",
   "execution_count": null,
   "id": "7",
   "metadata": {},
   "outputs": [],
   "source": [
    "API_KEY = os.getenv(\"EURI_API_KEY\")"
   ]
  },
  {
   "cell_type": "code",
   "execution_count": null,
   "id": "8",
   "metadata": {},
   "outputs": [],
   "source": [
    "import requests"
   ]
  },
  {
   "cell_type": "code",
   "execution_count": null,
   "id": "9",
   "metadata": {},
   "outputs": [],
   "source": [
    "def generate_embeddings(text):\n",
    "\turl = \"https://api.euron.one/api/v1/euri/embeddings\"\n",
    "\theaders = {\"Content-Type\": \"application/json\", \"Authorization\": f\"Bearer {API_KEY}\"}\n",
    "\tpayload = {\"input\": text, \"model\": \"text-embedding-3-small\"}\n",
    "\n",
    "\tresponse = requests.post(url, headers=headers, json=payload, timeout=30)\n",
    "\tdata = response.json()\n",
    "\n",
    "\t# convert to numpy array for vector operations\n",
    "\n",
    "\treturn np.array(data[\"data\"][0][\"embedding\"], dtype=np.float32)"
   ]
  },
  {
   "cell_type": "code",
   "execution_count": null,
   "id": "10",
   "metadata": {},
   "outputs": [],
   "source": [
    "text1 = \"my name is Tejas\"\n",
    "text2 = \"I am Tejas\"\n",
    "text3 = \"Gen AI is awesome\""
   ]
  },
  {
   "cell_type": "code",
   "execution_count": null,
   "id": "11",
   "metadata": {},
   "outputs": [],
   "source": [
    "embd1 = generate_embeddings(text1)\n",
    "embd2 = generate_embeddings(text2)\n",
    "embd3 = generate_embeddings(text3)"
   ]
  },
  {
   "cell_type": "code",
   "execution_count": null,
   "id": "12",
   "metadata": {},
   "outputs": [],
   "source": [
    "print(f\"similarity between `{text1}` and `{text2}` is {cosine_fun(embd1, embd2)}\")"
   ]
  },
  {
   "cell_type": "code",
   "execution_count": null,
   "id": "13",
   "metadata": {},
   "outputs": [],
   "source": [
    "print(f\"similarity between `{text1}` and `{text3}` is {cosine_fun(embd1, embd3)}\")"
   ]
  },
  {
   "cell_type": "code",
   "execution_count": null,
   "id": "14",
   "metadata": {},
   "outputs": [],
   "source": []
  }
 ],
 "metadata": {
  "kernelspec": {
   "display_name": "Python 3",
   "language": "python",
   "name": "python3"
  },
  "language_info": {
   "codemirror_mode": {
    "name": "ipython",
    "version": 2
   },
   "file_extension": ".py",
   "mimetype": "text/x-python",
   "name": "python",
   "nbconvert_exporter": "python",
   "pygments_lexer": "ipython2",
   "version": "2.7.6"
  }
 },
 "nbformat": 4,
 "nbformat_minor": 5
}
