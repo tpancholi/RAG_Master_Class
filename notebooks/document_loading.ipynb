{
 "cells": [
  {
   "cell_type": "code",
   "execution_count": null,
   "id": "0",
   "metadata": {},
   "outputs": [],
   "source": [
    "from __future__ import annotations"
   ]
  },
  {
   "cell_type": "markdown",
   "id": "1",
   "metadata": {},
   "source": [
    "# Document loading via langchain and llamaindex\n"
   ]
  },
  {
   "cell_type": "markdown",
   "id": "2",
   "metadata": {},
   "source": [
    "- [Langchain](https://python.langchain.com/docs/integrations/document_loaders/)\n",
    "- [LlamaIndex](https://developers.llamaindex.ai/python/framework/module_guides/loading/simpledirectoryreader/)\n"
   ]
  },
  {
   "cell_type": "code",
   "execution_count": null,
   "id": "3",
   "metadata": {},
   "outputs": [],
   "source": [
    "from langchain_community.document_loaders import CSVLoader, PyMuPDFLoader, TextLoader\n",
    "from llama_index.core import SimpleDirectoryReader"
   ]
  },
  {
   "cell_type": "code",
   "execution_count": null,
   "id": "4",
   "metadata": {},
   "outputs": [],
   "source": [
    "# Langchain\n",
    "TextLoader(\"../data/sample.txt\").load()[0]"
   ]
  },
  {
   "cell_type": "code",
   "execution_count": null,
   "id": "5",
   "metadata": {},
   "outputs": [],
   "source": [
    "TextLoader(\"../data/sample.txt\").load()[0].page_content"
   ]
  },
  {
   "cell_type": "code",
   "execution_count": null,
   "id": "6",
   "metadata": {},
   "outputs": [],
   "source": [
    "# langchain\n",
    "CSVLoader(\"../data/sample.csv\").load()"
   ]
  },
  {
   "cell_type": "code",
   "execution_count": null,
   "id": "7",
   "metadata": {},
   "outputs": [],
   "source": [
    "# langchain\n",
    "PyMuPDFLoader(\"../data/sample.pdf\").load()"
   ]
  },
  {
   "cell_type": "code",
   "execution_count": null,
   "id": "8",
   "metadata": {},
   "outputs": [],
   "source": [
    "# langchain\n",
    "from langchain_docling import DoclingLoader\n",
    "\n",
    "DoclingLoader(\"https://arxiv.org/pdf/2408.09869\").load()"
   ]
  },
  {
   "cell_type": "code",
   "execution_count": null,
   "id": "9",
   "metadata": {},
   "outputs": [],
   "source": [
    "DoclingLoader(\"../data/Querying.docx\").load()"
   ]
  },
  {
   "cell_type": "code",
   "execution_count": null,
   "id": "10",
   "metadata": {},
   "outputs": [],
   "source": [
    "from langchain_community.document_loaders import WebBaseLoader\n",
    "\n",
    "WebBaseLoader(\"https://deepshieldai.com\").load()"
   ]
  },
  {
   "cell_type": "code",
   "execution_count": null,
   "id": "11",
   "metadata": {},
   "outputs": [],
   "source": [
    "import json\n",
    "from pathlib import Path\n",
    "from typing import Any\n",
    "\n",
    "from langchain.docstore.document import Document\n",
    "\n",
    "\n",
    "def load_notion_json(path: str) -> dict[str, Any]:\n",
    "\twith Path(path).open(encoding=\"utf-8\") as f:\n",
    "\t\tdata = json.load(f)\n",
    "\n",
    "\t\tdocument = []\n",
    "\t\tfor entry in data:\n",
    "\t\t\tpage_content = f\"Title: {entry['title']}\\n\\nContent: {entry['content']}\"\n",
    "\t\t\tmetadata = {\"title\": entry.get(\"title\", \"\"), \"source\": path}\n",
    "\t\treturn document.append(Document(page_content=page_content, metadata=metadata))"
   ]
  },
  {
   "cell_type": "code",
   "execution_count": null,
   "id": "12",
   "metadata": {},
   "outputs": [],
   "source": [
    "load_notion_json(\"../data/notion_export.json\")"
   ]
  },
  {
   "cell_type": "code",
   "execution_count": null,
   "id": "13",
   "metadata": {},
   "outputs": [],
   "source": [
    "# llamaindex\n",
    "SimpleDirectoryReader(input_files=[\"../data/sample.txt\"]).load_data()"
   ]
  },
  {
   "cell_type": "code",
   "execution_count": null,
   "id": "14",
   "metadata": {},
   "outputs": [],
   "source": [
    "# Langchain\n",
    "TextLoader(\"../data/sample.txt\").load()"
   ]
  },
  {
   "cell_type": "markdown",
   "id": "15",
   "metadata": {},
   "source": [
    "## It seems llamaindex has better metadata capturing mechanism\n"
   ]
  },
  {
   "cell_type": "code",
   "execution_count": null,
   "id": "16",
   "metadata": {},
   "outputs": [],
   "source": [
    "SimpleDirectoryReader(input_files=[\"../data/notion_export.json\"]).load_data()"
   ]
  },
  {
   "cell_type": "code",
   "execution_count": null,
   "id": "17",
   "metadata": {},
   "outputs": [],
   "source": []
  }
 ],
 "metadata": {
  "kernelspec": {
   "display_name": "Python 3",
   "language": "python",
   "name": "python3"
  },
  "language_info": {
   "codemirror_mode": {
    "name": "ipython",
    "version": 2
   },
   "file_extension": ".py",
   "mimetype": "text/x-python",
   "name": "python",
   "nbconvert_exporter": "python",
   "pygments_lexer": "ipython2",
   "version": "2.7.6"
  }
 },
 "nbformat": 4,
 "nbformat_minor": 5
}
