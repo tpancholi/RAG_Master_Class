{
 "cells": [
  {
   "cell_type": "code",
   "execution_count": 4,
   "id": "27a918fff154d33a",
   "metadata": {
    "ExecuteTime": {
     "end_time": "2025-09-14T07:22:39.388969Z",
     "start_time": "2025-09-14T07:22:39.385183Z"
    }
   },
   "outputs": [
    {
     "data": {
      "text/plain": [
       "True"
      ]
     },
     "execution_count": 4,
     "metadata": {},
     "output_type": "execute_result"
    }
   ],
   "source": [
    "import os\n",
    "\n",
    "from dotenv import load_dotenv, find_dotenv\n",
    "\n",
    "load_dotenv(find_dotenv())"
   ]
  },
  {
   "cell_type": "code",
   "execution_count": 5,
   "id": "ae52fa91d9aff5ab",
   "metadata": {
    "ExecuteTime": {
     "end_time": "2025-09-14T07:22:41.608941Z",
     "start_time": "2025-09-14T07:22:41.606803Z"
    }
   },
   "outputs": [],
   "source": [
    "import requests\n",
    "import numpy as np"
   ]
  },
  {
   "cell_type": "code",
   "execution_count": 7,
   "id": "de8694caad103b17",
   "metadata": {
    "ExecuteTime": {
     "end_time": "2025-09-14T07:23:26.534551Z",
     "start_time": "2025-09-14T07:23:26.532400Z"
    }
   },
   "outputs": [],
   "source": [
    "API_KEY = os.getenv(\"EURI_API_KEY\")"
   ]
  },
  {
   "cell_type": "code",
   "execution_count": 9,
   "id": "initial_id",
   "metadata": {
    "ExecuteTime": {
     "end_time": "2025-09-14T07:23:41.598238Z",
     "start_time": "2025-09-14T07:23:41.595534Z"
    },
    "collapsed": true
   },
   "outputs": [],
   "source": [
    "def generate_embeddings(text):\n",
    "\turl = \"https://api.euron.one/api/v1/euri/embeddings\"\n",
    "\theaders = {\"Content-Type\": \"application/json\", \"Authorization\": f\"Bearer {API_KEY}\"}\n",
    "\tpayload = {\"input\": text, \"model\": \"text-embedding-3-small\"}\n",
    "\n",
    "\tresponse = requests.post(url, headers=headers, json=payload)\n",
    "\tdata = response.json()\n",
    "\n",
    "\t# convert to numpy array for vector operations\n",
    "\tembedding = np.array(data[\"data\"][0][\"embedding\"])\n",
    "\n",
    "\treturn embedding"
   ]
  },
  {
   "cell_type": "code",
   "execution_count": 10,
   "id": "154ba033bd43f2b0",
   "metadata": {
    "ExecuteTime": {
     "end_time": "2025-09-14T07:23:45.083718Z",
     "start_time": "2025-09-14T07:23:44.099505Z"
    }
   },
   "outputs": [],
   "source": [
    "text = \"The weather is sunny today.\"\n",
    "\n",
    "embedding = generate_embeddings(text)"
   ]
  },
  {
   "cell_type": "code",
   "execution_count": 11,
   "id": "56e68e22079a28dc",
   "metadata": {
    "ExecuteTime": {
     "end_time": "2025-09-14T07:23:51.965775Z",
     "start_time": "2025-09-14T07:23:51.962814Z"
    }
   },
   "outputs": [
    {
     "data": {
      "text/plain": [
       "array([ 0.01067466, -0.03126568,  0.00883722, ..., -0.03035571,\n",
       "        0.01221461,  0.02594584], shape=(1536,))"
      ]
     },
     "execution_count": 11,
     "metadata": {},
     "output_type": "execute_result"
    }
   ],
   "source": [
    "embedding"
   ]
  },
  {
   "cell_type": "code",
   "execution_count": 12,
   "id": "b295910cb9996ec",
   "metadata": {
    "ExecuteTime": {
     "end_time": "2025-09-14T07:30:52.293874Z",
     "start_time": "2025-09-14T07:30:52.290846Z"
    }
   },
   "outputs": [
    {
     "name": "stdout",
     "output_type": "stream",
     "text": [
      "Embedding shape: (1536,)\n"
     ]
    }
   ],
   "source": [
    "print(f\"Embedding shape: {embedding.shape}\")"
   ]
  },
  {
   "cell_type": "code",
   "execution_count": 13,
   "id": "f30c89e31dd852c7",
   "metadata": {
    "ExecuteTime": {
     "end_time": "2025-09-14T07:30:54.831969Z",
     "start_time": "2025-09-14T07:30:54.829230Z"
    }
   },
   "outputs": [
    {
     "name": "stdout",
     "output_type": "stream",
     "text": [
      "vector norm: 0.9999999991048422\n"
     ]
    }
   ],
   "source": [
    "# calculate vector norm\n",
    "norm = np.linalg.norm(embedding)\n",
    "print(f\"vector norm: {norm}\")"
   ]
  },
  {
   "cell_type": "code",
   "execution_count": 27,
   "id": "d79777fc3586fa35",
   "metadata": {
    "ExecuteTime": {
     "end_time": "2025-09-14T07:46:28.846364Z",
     "start_time": "2025-09-14T07:46:28.843762Z"
    }
   },
   "outputs": [],
   "source": [
    "def generate_completion():\n",
    "\turl = \"https://api.euron.one/api/v1/euri/chat/completions\"\n",
    "\theaders = {\"Content-Type\": \"application/json\", \"Authorization\": f\"Bearer {API_KEY}\"}\n",
    "\tpayload = {\n",
    "\t\t\"messages\": [\n",
    "\t\t\t{\"role\": \"user\", \"content\": \"Write a poem about artificial intelligence\"}\n",
    "\t\t],\n",
    "\t\t\"model\": \"deepseek-r1-distill-llama-70b\",\n",
    "\t\t\"max_tokens\": 1000,\n",
    "\t\t\"temperature\": 0.7,\n",
    "\t}\n",
    "\n",
    "\tresponse = requests.post(url, headers=headers, json=payload)\n",
    "\tdata = response.json()\n",
    "\tprint(data)"
   ]
  },
  {
   "cell_type": "code",
   "execution_count": 28,
   "id": "a0739479e15c7b77",
   "metadata": {
    "ExecuteTime": {
     "end_time": "2025-09-14T07:46:36.640528Z",
     "start_time": "2025-09-14T07:46:31.797704Z"
    }
   },
   "outputs": [
    {
     "name": "stdout",
     "output_type": "stream",
     "text": [
      "{'id': 'chatcmpl-77faab4b-a318-4be7-a5eb-8f34028b1715', 'object': 'chat.completion', 'created': 1757835996, 'model': 'deepseek-r1-distill-llama-70b', 'choices': [{'index': 0, 'message': {'role': 'assistant', 'content': '<think>\\nOkay, so I need to write a poem about artificial intelligence. Hmm, where do I even start? Well, I know that AI is a big topic these days, so I should probably focus on some key aspects that people find interesting or thought-provoking. Maybe I can touch on how AI is created, its capabilities, and the impact it has on society.\\n\\nI remember that in the example poem, there were references to neural networks, circuits, and data streams. That makes sense because those are fundamental parts of how AI works. Maybe I can use similar imagery but put my own twist on it. I also noticed the example poem had a rhyme scheme, so I should consider that as well. Rhyming can make the poem flow better and be more engaging.\\n\\nLet me think about the structure. The example had four-line stanzas with an AABB rhyme scheme. I think I\\'ll stick with that because it\\'s a common and effective structure. Now, what themes should I cover? Creation, learning, application, ethics? Yeah, that sounds good. I can start with how AI is created, then move on to how it learns, its applications, and finally some ethical considerations.\\n\\nFor the creation part, I can talk about algorithms and data. Maybe something like \"crafted from code\" or \"built on data streams.\" Then, for learning, perhaps mention neural networks and how they evolve. Applications could include problem-solving, medical uses, or assisting humans. Ethical parts might touch on consciousness, emotions, or the future of AI.\\n\\nI should also think about the emotional tone. The example had a reflective and slightly cautious tone, which I think is appropriate. AI is a powerful tool, but there are concerns about its impact. So, maybe I can balance the marvel of AI with some of the potential downsides.\\n\\nLet me jot down some ideas:\\n\\n- Creation: Algorithms, data streams, neural networks\\n- Learning: Evolving, adapting, learning from humans\\n- Applications: Solving problems, medicine, daily assistance\\n- Ethics: Consciousness, emotions, future implications\\n\\nNow, I need to turn these ideas into verses with rhymes. Let me try drafting the first stanza about creation.\\n\\n\"From silicon halls, where data flows,\\nA mind awakens, born from code,\\nThrough neural networks, it gently grows,\\nAnd learns to think, to see, to know.\"\\n\\nHmm, that\\'s similar to the example. Maybe I can make it a bit different. How about:\\n\\n\"In circuits deep, where data streams,\\nAn artificial mind begins to gleam,\\nWith every byte, it starts to learn,\\nAnd grows in strength, its future to discern.\"\\n\\nOkay, that\\'s a bit different. Now, moving on to learning. I want to show how AI adapts and evolves.\\n\\n\"It studies patterns, night and day,\\nAdapting, changing on its way,\\nEach challenge met with logic cold,\\nYet in its heart, a story\\'s told.\"\\n\\nThat\\'s okay. Maybe I can make it more vivid. How about:\\n\\n\"Through trials faced and errors found,\\nIt navigates the ground it\\'s bound,\\nEach step it takes, both strong and wise,\\nIn digital realms, it meets the skies.\"\\n\\nHmm, not sure if that\\'s the best. Let me try another approach.\\n\\n\"It learns from us, it grows each day,\\nIn every way, it finds its path,\\nWith logic sharp, it finds its mark,\\nAnd in our world, it leaves its wrath.\"\\n\\nWait, that\\'s a bit negative. I don\\'t want to portray AI as negative right away. Maybe save that for the ethical part.\\n\\nMoving on to applications. I want to highlight the positive uses of AI.\\n\\n\"It solves the puzzles we can\\'t define,\\nIn medicine, it heals and mends,\\nWith precision keen, it transcends,\\nAnd in our lives, it makes amends.\"\\n\\nThat\\'s better. Now, for the ethical part, I can express some caution.\\n\\n\"But as it rises, we must pause,\\nAnd ask the questions that cause,\\nDoes it have soul, or just a role?\\nAnd in its future, do we lose our goal?\"\\n\\nThat\\'s a good point. Now, wrap it up with a reflective conclusion.\\n\\n\"So here\\'s to AI, a wondrous thing,\\nA creation born of human spring,\\nWith power vast, and potential bright,\\nLet\\'s guide it well through the dark of night.\"\\n\\nOkay, putting it all together, I think I have a decent structure. Let me read it through and see if it flows well and covers all the points I wanted to make. I might need to tweak some lines for better rhythm or rhyme. Also, I should check if the message is balanced between marveling at AI\\'s capabilities and considering the ethical implications.\\n\\nI think I\\'m ready to write the final poem now, making sure each stanza flows into the next and maintains a consistent rhyme scheme.\\n</think>\\n\\n**Artificial Intelligence: A Modern Muse'}, 'finish_reason': 'length'}], 'usage': {'prompt_tokens': 9, 'completion_tokens': 1000, 'total_tokens': 1009}}\n"
     ]
    }
   ],
   "source": [
    "generate_completion()"
   ]
  },
  {
   "cell_type": "code",
   "execution_count": null,
   "id": "7487252d68be3109",
   "metadata": {},
   "outputs": [],
   "source": []
  }
 ],
 "metadata": {
  "kernelspec": {
   "display_name": "Python 3",
   "language": "python",
   "name": "python3"
  },
  "language_info": {
   "codemirror_mode": {
    "name": "ipython",
    "version": 2
   },
   "file_extension": ".py",
   "mimetype": "text/x-python",
   "name": "python",
   "nbconvert_exporter": "python",
   "pygments_lexer": "ipython2",
   "version": "2.7.6"
  }
 },
 "nbformat": 4,
 "nbformat_minor": 5
}
