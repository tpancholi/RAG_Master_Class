{
 "cells": [
  {
   "cell_type": "code",
   "execution_count": null,
   "id": "0",
   "metadata": {},
   "outputs": [],
   "source": [
    "from __future__ import annotations\n",
    "\n",
    "import os\n",
    "\n",
    "from dotenv import find_dotenv, load_dotenv\n",
    "\n",
    "load_dotenv(find_dotenv())"
   ]
  },
  {
   "cell_type": "code",
   "execution_count": null,
   "id": "1",
   "metadata": {},
   "outputs": [],
   "source": [
    "import numpy as np\n",
    "import requests"
   ]
  },
  {
   "cell_type": "code",
   "execution_count": null,
   "id": "2",
   "metadata": {},
   "outputs": [],
   "source": [
    "API_KEY = os.getenv(\"EURI_API_KEY\")"
   ]
  },
  {
   "cell_type": "code",
   "execution_count": null,
   "id": "3",
   "metadata": {},
   "outputs": [],
   "source": [
    "def generate_embeddings(text: str) -> np.ndarray:\n",
    "\turl = \"https://api.euron.one/api/v1/euri/embeddings\"\n",
    "\theaders = {\"Content-Type\": \"application/json\", \"Authorization\": f\"Bearer {API_KEY}\"}\n",
    "\tpayload = {\"input\": text, \"model\": \"text-embedding-3-small\"}\n",
    "\n",
    "\tresponse = requests.post(url, headers=headers, json=payload, timeout=30)\n",
    "\tdata = response.json()\n",
    "\n",
    "\t# convert to numpy array for vector operations\n",
    "\n",
    "\treturn np.array(data[\"data\"][0][\"embedding\"])"
   ]
  },
  {
   "cell_type": "code",
   "execution_count": null,
   "id": "4",
   "metadata": {},
   "outputs": [],
   "source": [
    "text = \"The weather is sunny today.\"\n",
    "\n",
    "embedding = generate_embeddings(text)"
   ]
  },
  {
   "cell_type": "code",
   "execution_count": null,
   "id": "5",
   "metadata": {},
   "outputs": [],
   "source": [
    "embedding"
   ]
  },
  {
   "cell_type": "code",
   "execution_count": null,
   "id": "6",
   "metadata": {},
   "outputs": [],
   "source": [
    "print(f\"Embedding shape: {embedding.shape}\")"
   ]
  },
  {
   "cell_type": "code",
   "execution_count": null,
   "id": "7",
   "metadata": {},
   "outputs": [],
   "source": [
    "# calculate vector norm\n",
    "norm = np.linalg.norm(embedding)\n",
    "print(f\"vector norm: {norm}\")"
   ]
  },
  {
   "cell_type": "code",
   "execution_count": null,
   "id": "8",
   "metadata": {},
   "outputs": [],
   "source": [
    "def generate_completion():\n",
    "\turl = \"https://api.euron.one/api/v1/euri/chat/completions\"\n",
    "\theaders = {\"Content-Type\": \"application/json\", \"Authorization\": f\"Bearer {API_KEY}\"}\n",
    "\tpayload = {\n",
    "\t\t\"messages\": [\n",
    "\t\t\t{\"role\": \"user\", \"content\": \"Write a poem about artificial intelligence\"}\n",
    "\t\t],\n",
    "\t\t\"model\": \"gpt-4.1-nano\",\n",
    "\t\t\"max_tokens\": 500,\n",
    "\t\t\"temperature\": 0.7,\n",
    "\t}\n",
    "\n",
    "\tresponse = requests.post(url, headers=headers, json=payload, timeout=30)\n",
    "\tdata = response.json()\n",
    "\tprint(data)"
   ]
  },
  {
   "cell_type": "code",
   "execution_count": null,
   "id": "9",
   "metadata": {},
   "outputs": [],
   "source": [
    "generate_completion()"
   ]
  },
  {
   "cell_type": "code",
   "execution_count": null,
   "id": "10",
   "metadata": {},
   "outputs": [],
   "source": [
    "from pathlib import Path\n",
    "\n",
    "with Path(\"../data/founder_story.txt\").open(encoding=\"utf-8\") as f:\n",
    "\traw_text = f.read()"
   ]
  },
  {
   "cell_type": "code",
   "execution_count": null,
   "id": "11",
   "metadata": {},
   "outputs": [],
   "source": [
    "raw_text"
   ]
  },
  {
   "cell_type": "markdown",
   "id": "12",
   "metadata": {},
   "source": [
    "### Here chunk means it has approx. 100 words in each chunk\n"
   ]
  },
  {
   "cell_type": "code",
   "execution_count": null,
   "id": "13",
   "metadata": {},
   "outputs": [],
   "source": [
    "def chunk_text(text, max_words=100):\n",
    "\twords = text.split()\n",
    "\treturn [\" \".join(words[i : i + max_words]) for i in range(0, len(words), max_words)]"
   ]
  },
  {
   "cell_type": "code",
   "execution_count": null,
   "id": "14",
   "metadata": {},
   "outputs": [],
   "source": [
    "chunks = chunk_text(raw_text)\n",
    "print(f\"Total number of chunks: {len(chunks)}\")\n",
    "print(chunks[0])"
   ]
  },
  {
   "cell_type": "code",
   "execution_count": null,
   "id": "15",
   "metadata": {},
   "outputs": [],
   "source": [
    "embedding = generate_embeddings(chunks[0])\n",
    "print(embedding)"
   ]
  },
  {
   "cell_type": "code",
   "execution_count": null,
   "id": "16",
   "metadata": {},
   "outputs": [],
   "source": [
    "import faiss"
   ]
  },
  {
   "cell_type": "code",
   "execution_count": null,
   "id": "17",
   "metadata": {},
   "outputs": [],
   "source": [
    "dimension = embedding.shape[0]\n",
    "index = faiss.IndexFlatL2(dimension)"
   ]
  },
  {
   "cell_type": "code",
   "execution_count": null,
   "id": "18",
   "metadata": {},
   "outputs": [],
   "source": [
    "chunk_mapping = []\n",
    "for chunk in chunks:\n",
    "\tembedding = generate_embeddings(chunk)\n",
    "\tindex.add(np.array([embedding]).astype(\"float32\"))\n",
    "\tchunk_mapping.append(chunk)"
   ]
  },
  {
   "cell_type": "code",
   "execution_count": null,
   "id": "19",
   "metadata": {},
   "outputs": [],
   "source": [
    "faiss.write_index(index, \"../data/index.faiss\")"
   ]
  },
  {
   "cell_type": "code",
   "execution_count": null,
   "id": "20",
   "metadata": {},
   "outputs": [],
   "source": [
    "def retrieve_top_k(query, k=1):\n",
    "\tquery_embedding = generate_embeddings(query)\n",
    "\t_distance, indices = index.search(np.array([query_embedding]).astype(\"float32\"), k)\n",
    "\treturn [chunk_mapping[i] for i in indices[0]]"
   ]
  },
  {
   "cell_type": "code",
   "execution_count": null,
   "id": "21",
   "metadata": {},
   "outputs": [],
   "source": [
    "def build_prompt(context_chunks, query):\n",
    "\tcontext = \"\\n\\n\".join(context_chunks)\n",
    "\treturn f\"\"\"Use the following context to answer the question.\n",
    "\tContext:\n",
    "\t{context}\n",
    "\n",
    "\tQuestion:\n",
    "\t{query}\n",
    "\n",
    "\tAnswer:\"\"\""
   ]
  },
  {
   "cell_type": "code",
   "execution_count": null,
   "id": "22",
   "metadata": {},
   "outputs": [],
   "source": [
    "def generate_response(prompt, model=\"gpt-4.1-nano\"):\n",
    "\turl = \"https://api.euron.one/api/v1/euri/chat/completions\"\n",
    "\theaders = {\"Content-Type\": \"application/json\", \"Authorization\": f\"Bearer {API_KEY}\"}\n",
    "\tpayload = {\n",
    "\t\t\"messages\": [{\"role\": \"user\", \"content\": prompt}],\n",
    "\t\t\"model\": model,\n",
    "\t\t\"max_tokens\": 500,\n",
    "\t\t\"temperature\": 0.3,\n",
    "\t}\n",
    "\tresponse = requests.post(url, headers=headers, json=payload, timeout=30)\n",
    "\treturn response.json()[\"choices\"][0][\"message\"][\"content\"]"
   ]
  },
  {
   "cell_type": "code",
   "execution_count": null,
   "id": "23",
   "metadata": {},
   "outputs": [],
   "source": [
    "query = \"what was the birth place of Sudhanshu?\"\n",
    "top_chunks = retrieve_top_k(query=query, k=3)"
   ]
  },
  {
   "cell_type": "code",
   "execution_count": null,
   "id": "24",
   "metadata": {},
   "outputs": [],
   "source": [
    "final_prompt = build_prompt(context_chunks=top_chunks, query=query)"
   ]
  },
  {
   "cell_type": "code",
   "execution_count": null,
   "id": "25",
   "metadata": {},
   "outputs": [],
   "source": [
    "result = generate_response(prompt=final_prompt)\n",
    "result"
   ]
  },
  {
   "cell_type": "code",
   "execution_count": null,
   "id": "26",
   "metadata": {},
   "outputs": [],
   "source": []
  }
 ],
 "metadata": {
  "kernelspec": {
   "display_name": "Python 3",
   "language": "python",
   "name": "python3"
  },
  "language_info": {
   "codemirror_mode": {
    "name": "ipython",
    "version": 2
   },
   "file_extension": ".py",
   "mimetype": "text/x-python",
   "name": "python",
   "nbconvert_exporter": "python",
   "pygments_lexer": "ipython2",
   "version": "2.7.6"
  }
 },
 "nbformat": 4,
 "nbformat_minor": 5
}
