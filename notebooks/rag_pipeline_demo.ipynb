{
 "cells": [
  {
   "cell_type": "code",
   "execution_count": 1,
   "id": "27a918fff154d33a",
   "metadata": {
    "ExecuteTime": {
     "end_time": "2025-09-14T13:46:46.309438Z",
     "start_time": "2025-09-14T13:46:46.303767Z"
    }
   },
   "outputs": [
    {
     "data": {
      "text/plain": [
       "True"
      ]
     },
     "execution_count": 1,
     "metadata": {},
     "output_type": "execute_result"
    }
   ],
   "source": [
    "import os\n",
    "\n",
    "from dotenv import load_dotenv, find_dotenv\n",
    "\n",
    "load_dotenv(find_dotenv())"
   ]
  },
  {
   "cell_type": "code",
   "execution_count": 2,
   "id": "ae52fa91d9aff5ab",
   "metadata": {
    "ExecuteTime": {
     "end_time": "2025-09-14T13:46:47.258548Z",
     "start_time": "2025-09-14T13:46:47.223665Z"
    }
   },
   "outputs": [],
   "source": [
    "import requests\n",
    "import numpy as np"
   ]
  },
  {
   "cell_type": "code",
   "execution_count": 3,
   "id": "de8694caad103b17",
   "metadata": {
    "ExecuteTime": {
     "end_time": "2025-09-14T13:46:48.230081Z",
     "start_time": "2025-09-14T13:46:48.228017Z"
    }
   },
   "outputs": [],
   "source": [
    "API_KEY = os.getenv(\"EURI_API_KEY\")"
   ]
  },
  {
   "cell_type": "code",
   "execution_count": 4,
   "id": "initial_id",
   "metadata": {
    "ExecuteTime": {
     "end_time": "2025-09-14T13:46:49.972440Z",
     "start_time": "2025-09-14T13:46:49.969488Z"
    },
    "collapsed": true
   },
   "outputs": [],
   "source": [
    "def generate_embeddings(text) -> np.ndarray:\n",
    "\turl = \"https://api.euron.one/api/v1/euri/embeddings\"\n",
    "\theaders = {\"Content-Type\": \"application/json\", \"Authorization\": f\"Bearer {API_KEY}\"}\n",
    "\tpayload = {\"input\": text, \"model\": \"text-embedding-3-small\"}\n",
    "\n",
    "\tresponse = requests.post(url, headers=headers, json=payload)\n",
    "\tdata = response.json()\n",
    "\n",
    "\t# convert to numpy array for vector operations\n",
    "\tembedding = np.array(data[\"data\"][0][\"embedding\"])\n",
    "\n",
    "\treturn embedding"
   ]
  },
  {
   "cell_type": "code",
   "execution_count": 10,
   "id": "154ba033bd43f2b0",
   "metadata": {
    "ExecuteTime": {
     "end_time": "2025-09-14T07:23:45.083718Z",
     "start_time": "2025-09-14T07:23:44.099505Z"
    }
   },
   "outputs": [],
   "source": [
    "text = \"The weather is sunny today.\"\n",
    "\n",
    "embedding = generate_embeddings(text)"
   ]
  },
  {
   "cell_type": "code",
   "execution_count": 11,
   "id": "56e68e22079a28dc",
   "metadata": {
    "ExecuteTime": {
     "end_time": "2025-09-14T07:23:51.965775Z",
     "start_time": "2025-09-14T07:23:51.962814Z"
    }
   },
   "outputs": [
    {
     "data": {
      "text/plain": [
       "array([ 0.01067466, -0.03126568,  0.00883722, ..., -0.03035571,\n",
       "        0.01221461,  0.02594584], shape=(1536,))"
      ]
     },
     "execution_count": 11,
     "metadata": {},
     "output_type": "execute_result"
    }
   ],
   "source": [
    "embedding"
   ]
  },
  {
   "cell_type": "code",
   "execution_count": 12,
   "id": "b295910cb9996ec",
   "metadata": {
    "ExecuteTime": {
     "end_time": "2025-09-14T07:30:52.293874Z",
     "start_time": "2025-09-14T07:30:52.290846Z"
    }
   },
   "outputs": [
    {
     "name": "stdout",
     "output_type": "stream",
     "text": [
      "Embedding shape: (1536,)\n"
     ]
    }
   ],
   "source": [
    "print(f\"Embedding shape: {embedding.shape}\")"
   ]
  },
  {
   "cell_type": "code",
   "execution_count": 13,
   "id": "f30c89e31dd852c7",
   "metadata": {
    "ExecuteTime": {
     "end_time": "2025-09-14T07:30:54.831969Z",
     "start_time": "2025-09-14T07:30:54.829230Z"
    }
   },
   "outputs": [
    {
     "name": "stdout",
     "output_type": "stream",
     "text": [
      "vector norm: 0.9999999991048422\n"
     ]
    }
   ],
   "source": [
    "# calculate vector norm\n",
    "norm = np.linalg.norm(embedding)\n",
    "print(f\"vector norm: {norm}\")"
   ]
  },
  {
   "cell_type": "code",
   "execution_count": 5,
   "id": "d79777fc3586fa35",
   "metadata": {
    "ExecuteTime": {
     "end_time": "2025-09-14T08:35:00.393899Z",
     "start_time": "2025-09-14T08:35:00.391226Z"
    }
   },
   "outputs": [],
   "source": [
    "def generate_completion():\n",
    "\turl = \"https://api.euron.one/api/v1/euri/chat/completions\"\n",
    "\theaders = {\"Content-Type\": \"application/json\", \"Authorization\": f\"Bearer {API_KEY}\"}\n",
    "\tpayload = {\n",
    "\t\t\"messages\": [\n",
    "\t\t\t{\"role\": \"user\", \"content\": \"Write a poem about artificial intelligence\"}\n",
    "\t\t],\n",
    "\t\t\"model\": \"gpt-4.1-nano\",\n",
    "\t\t\"max_tokens\": 500,\n",
    "\t\t\"temperature\": 0.7,\n",
    "\t}\n",
    "\n",
    "\tresponse = requests.post(url, headers=headers, json=payload)\n",
    "\tdata = response.json()\n",
    "\tprint(data)"
   ]
  },
  {
   "cell_type": "code",
   "execution_count": 28,
   "id": "a0739479e15c7b77",
   "metadata": {
    "ExecuteTime": {
     "end_time": "2025-09-14T07:46:36.640528Z",
     "start_time": "2025-09-14T07:46:31.797704Z"
    }
   },
   "outputs": [
    {
     "name": "stdout",
     "output_type": "stream",
     "text": [
      "{'id': 'chatcmpl-77faab4b-a318-4be7-a5eb-8f34028b1715', 'object': 'chat.completion', 'created': 1757835996, 'model': 'deepseek-r1-distill-llama-70b', 'choices': [{'index': 0, 'message': {'role': 'assistant', 'content': '<think>\\nOkay, so I need to write a poem about artificial intelligence. Hmm, where do I even start? Well, I know that AI is a big topic these days, so I should probably focus on some key aspects that people find interesting or thought-provoking. Maybe I can touch on how AI is created, its capabilities, and the impact it has on society.\\n\\nI remember that in the example poem, there were references to neural networks, circuits, and data streams. That makes sense because those are fundamental parts of how AI works. Maybe I can use similar imagery but put my own twist on it. I also noticed the example poem had a rhyme scheme, so I should consider that as well. Rhyming can make the poem flow better and be more engaging.\\n\\nLet me think about the structure. The example had four-line stanzas with an AABB rhyme scheme. I think I\\'ll stick with that because it\\'s a common and effective structure. Now, what themes should I cover? Creation, learning, application, ethics? Yeah, that sounds good. I can start with how AI is created, then move on to how it learns, its applications, and finally some ethical considerations.\\n\\nFor the creation part, I can talk about algorithms and data. Maybe something like \"crafted from code\" or \"built on data streams.\" Then, for learning, perhaps mention neural networks and how they evolve. Applications could include problem-solving, medical uses, or assisting humans. Ethical parts might touch on consciousness, emotions, or the future of AI.\\n\\nI should also think about the emotional tone. The example had a reflective and slightly cautious tone, which I think is appropriate. AI is a powerful tool, but there are concerns about its impact. So, maybe I can balance the marvel of AI with some of the potential downsides.\\n\\nLet me jot down some ideas:\\n\\n- Creation: Algorithms, data streams, neural networks\\n- Learning: Evolving, adapting, learning from humans\\n- Applications: Solving problems, medicine, daily assistance\\n- Ethics: Consciousness, emotions, future implications\\n\\nNow, I need to turn these ideas into verses with rhymes. Let me try drafting the first stanza about creation.\\n\\n\"From silicon halls, where data flows,\\nA mind awakens, born from code,\\nThrough neural networks, it gently grows,\\nAnd learns to think, to see, to know.\"\\n\\nHmm, that\\'s similar to the example. Maybe I can make it a bit different. How about:\\n\\n\"In circuits deep, where data streams,\\nAn artificial mind begins to gleam,\\nWith every byte, it starts to learn,\\nAnd grows in strength, its future to discern.\"\\n\\nOkay, that\\'s a bit different. Now, moving on to learning. I want to show how AI adapts and evolves.\\n\\n\"It studies patterns, night and day,\\nAdapting, changing on its way,\\nEach challenge met with logic cold,\\nYet in its heart, a story\\'s told.\"\\n\\nThat\\'s okay. Maybe I can make it more vivid. How about:\\n\\n\"Through trials faced and errors found,\\nIt navigates the ground it\\'s bound,\\nEach step it takes, both strong and wise,\\nIn digital realms, it meets the skies.\"\\n\\nHmm, not sure if that\\'s the best. Let me try another approach.\\n\\n\"It learns from us, it grows each day,\\nIn every way, it finds its path,\\nWith logic sharp, it finds its mark,\\nAnd in our world, it leaves its wrath.\"\\n\\nWait, that\\'s a bit negative. I don\\'t want to portray AI as negative right away. Maybe save that for the ethical part.\\n\\nMoving on to applications. I want to highlight the positive uses of AI.\\n\\n\"It solves the puzzles we can\\'t define,\\nIn medicine, it heals and mends,\\nWith precision keen, it transcends,\\nAnd in our lives, it makes amends.\"\\n\\nThat\\'s better. Now, for the ethical part, I can express some caution.\\n\\n\"But as it rises, we must pause,\\nAnd ask the questions that cause,\\nDoes it have soul, or just a role?\\nAnd in its future, do we lose our goal?\"\\n\\nThat\\'s a good point. Now, wrap it up with a reflective conclusion.\\n\\n\"So here\\'s to AI, a wondrous thing,\\nA creation born of human spring,\\nWith power vast, and potential bright,\\nLet\\'s guide it well through the dark of night.\"\\n\\nOkay, putting it all together, I think I have a decent structure. Let me read it through and see if it flows well and covers all the points I wanted to make. I might need to tweak some lines for better rhythm or rhyme. Also, I should check if the message is balanced between marveling at AI\\'s capabilities and considering the ethical implications.\\n\\nI think I\\'m ready to write the final poem now, making sure each stanza flows into the next and maintains a consistent rhyme scheme.\\n</think>\\n\\n**Artificial Intelligence: A Modern Muse'}, 'finish_reason': 'length'}], 'usage': {'prompt_tokens': 9, 'completion_tokens': 1000, 'total_tokens': 1009}}\n"
     ]
    }
   ],
   "source": [
    "generate_completion()"
   ]
  },
  {
   "cell_type": "code",
   "execution_count": 5,
   "id": "7487252d68be3109",
   "metadata": {
    "ExecuteTime": {
     "end_time": "2025-09-14T13:47:06.891946Z",
     "start_time": "2025-09-14T13:47:06.888739Z"
    }
   },
   "outputs": [],
   "source": [
    "with open(\"../data/founder_story.txt\", \"r\", encoding=\"utf-8\") as f:\n",
    "\traw_text = f.read()"
   ]
  },
  {
   "cell_type": "code",
   "execution_count": 6,
   "id": "272e44cf182faf2f",
   "metadata": {
    "ExecuteTime": {
     "end_time": "2025-09-14T13:47:08.334669Z",
     "start_time": "2025-09-14T13:47:08.332037Z"
    }
   },
   "outputs": [
    {
     "data": {
      "text/plain": [
       "\"\\nMaking an Impact\\nHelping Millions of Students Succeed\\nSudhanshu's commitment to affordable education wasn't just a business strategy—it was his life's mission. Over the years, iNeuron has helped over 1.5 million students from 34+ countries, providing them with the skills they need to succeed in today's competitive job market. Many of these students, like Sudhanshu himself, came from disadvantaged backgrounds. They saw iNeuron as a lifeline—an opportunity to rise above their circumstances.\\n\\nIn 2022, iNeuron was acquired by PhysicsWallah in a deal worth ₹250 crore. While this acquisition was a significant milestone, Sudhanshu remained focused on his mission. Even after the acquisition, iNeuron continued to offer some of the most affordable and accessible tech courses in the world.\\n\\nThe Entrepreneur and Teacher: Sudhanshu's Dual Legacy\\nSudhanshu's journey isn't just one of entrepreneurial success; it's also a story of dedication to teaching. Throughout his career, he has remained a passionate educator, constantly looking for ways to empower others through knowledge. Whether teaching courses in Big Data, Data Science, or programming, Sudhanshu has always sought to make complex subjects accessible to learners at all levels.\\n\\nHis commitment to affordable education has earned him the respect and admiration of countless students. Many credit Sudhanshu with changing their lives, helping them secure jobs, improve their skills, and break free from the limitations of their backgrounds.\\n\\nSudhanshu Kumar's life is a story of triumph over adversity, driven by the belief in the transformative power of education. Born in Jamshedpur, Jharkhand, India, to a family of very modest means, Sudhanshu's early years were marked by financial hardship. His surroundings offered little opportunity, and resources were limited, yet he understood from a young age that education could be his ticket out of poverty.\\n\\nWhile many would have been daunted by the lack of support and opportunity, Sudhanshu was relentless in his pursuit of knowledge. He knew that education had the power to change lives, and he was determined to leverage it to create a better future for himself and his family. Despite the numerous challenges along the way, Sudhanshu excelled academically, eventually earning a degree in Computer Science and Engineering (CSE).After completing his education, Sudhanshu began his professional journey in the tech industry, working with prestigious companies like Wipro, Deloitte, Verizon Labs, and Ernst & Young. During this time, he gained expertise in various technologies and frameworks, including SAP WebDynpro, Fiori UI5 HANA, Java, Big Data, Data Analytics, and more. He became a well-rounded technologist, well-respected in his field.\\n\\nDespite his growing success, Sudhanshu never forgot his roots. He knew that there were many others who, like him, came from humble backgrounds and were looking for an opportunity to change their lives through education. It was during this time that Sudhanshu realized a harsh truth: quality education was often inaccessible to those who needed it the most. The high cost of education barred millions of people from pursuing their dreams, especially in tech fields that required specialized skills.\\nFueled by his passion for making education accessible, Sudhanshu decided to take action. In 2019, he founded iNeuron Intelligence Private Limited, an edtech platform that would make tech upskilling affordable and accessible for everyone. His mission was clear: to provide high-quality courses at a price so low that even those from the most disadvantaged backgrounds could afford to learn.\\n\\niNeuron was designed to be more than just an online learning platform. It offered a comprehensive bundle of resources, including courses, books, hands-on projects, and live classes, making sure that learners could gain real-world, applicable skills. Most importantly, iNeuron was priced to ensure no student would be left behind due to financial constraints.\\n\\nThe company quickly gained traction, thanks to Sudhanshu's focus on affordability and quality. In 2021, iNeuron raised $3 million in funding from S. Chand, a leading education publisher. This allowed iNeuron to expand its offerings and reach a larger audience.\""
      ]
     },
     "execution_count": 6,
     "metadata": {},
     "output_type": "execute_result"
    }
   ],
   "source": [
    "raw_text"
   ]
  },
  {
   "cell_type": "markdown",
   "id": "fac97c015a739f8f",
   "metadata": {},
   "source": "### Here chunk means it has approx. 100 words in each chunk"
  },
  {
   "cell_type": "code",
   "execution_count": 7,
   "id": "5b69ca95d7fd303f",
   "metadata": {
    "ExecuteTime": {
     "end_time": "2025-09-14T13:47:12.852892Z",
     "start_time": "2025-09-14T13:47:12.850211Z"
    }
   },
   "outputs": [],
   "source": [
    "def chunk_text(text, max_words=100):\n",
    "\tchunks = []\n",
    "\twords = text.split()\n",
    "\tfor i in range(0, len(words), max_words):\n",
    "\t\tchunks.append(\" \".join(words[i : i + max_words]))\n",
    "\treturn chunks"
   ]
  },
  {
   "cell_type": "code",
   "execution_count": 8,
   "id": "2a188ab2793eb648",
   "metadata": {
    "ExecuteTime": {
     "end_time": "2025-09-14T13:47:14.527723Z",
     "start_time": "2025-09-14T13:47:14.525411Z"
    }
   },
   "outputs": [
    {
     "name": "stdout",
     "output_type": "stream",
     "text": [
      "Total number of chunks: 7\n",
      "Making an Impact Helping Millions of Students Succeed Sudhanshu's commitment to affordable education wasn't just a business strategy—it was his life's mission. Over the years, iNeuron has helped over 1.5 million students from 34+ countries, providing them with the skills they need to succeed in today's competitive job market. Many of these students, like Sudhanshu himself, came from disadvantaged backgrounds. They saw iNeuron as a lifeline—an opportunity to rise above their circumstances. In 2022, iNeuron was acquired by PhysicsWallah in a deal worth ₹250 crore. While this acquisition was a significant milestone, Sudhanshu remained focused on his mission. Even after\n"
     ]
    }
   ],
   "source": [
    "chunks = chunk_text(raw_text)\n",
    "print(f\"Total number of chunks: {len(chunks)}\")\n",
    "print(chunks[0])"
   ]
  },
  {
   "cell_type": "code",
   "execution_count": 9,
   "id": "13acb0fce138b116",
   "metadata": {
    "ExecuteTime": {
     "end_time": "2025-09-14T13:47:19.471637Z",
     "start_time": "2025-09-14T13:47:18.344507Z"
    }
   },
   "outputs": [
    {
     "name": "stdout",
     "output_type": "stream",
     "text": [
      "[-0.02150689 -0.02940878  0.04458041 ... -0.02251008  0.01241628\n",
      "  0.01720551]\n"
     ]
    }
   ],
   "source": [
    "embedding = generate_embeddings(chunks[0])\n",
    "print(embedding)"
   ]
  },
  {
   "cell_type": "code",
   "execution_count": 10,
   "id": "11563866f7dbc907",
   "metadata": {
    "ExecuteTime": {
     "end_time": "2025-09-14T13:47:21.931085Z",
     "start_time": "2025-09-14T13:47:21.854557Z"
    }
   },
   "outputs": [],
   "source": [
    "import faiss"
   ]
  },
  {
   "cell_type": "code",
   "execution_count": 11,
   "id": "6ba6ece04b0ee372",
   "metadata": {
    "ExecuteTime": {
     "end_time": "2025-09-14T13:47:22.824240Z",
     "start_time": "2025-09-14T13:47:22.821270Z"
    }
   },
   "outputs": [],
   "source": [
    "dimension = embedding.shape[0]\n",
    "index = faiss.IndexFlatL2(dimension)"
   ]
  },
  {
   "cell_type": "code",
   "execution_count": 12,
   "id": "35d558ee08f534cf",
   "metadata": {
    "ExecuteTime": {
     "end_time": "2025-09-14T13:47:31.757760Z",
     "start_time": "2025-09-14T13:47:24.311901Z"
    }
   },
   "outputs": [],
   "source": [
    "chunk_mapping = []\n",
    "for chunk in chunks:\n",
    "\tembedding = generate_embeddings(chunk)\n",
    "\tindex.add(np.array([embedding]).astype(\"float32\"))\n",
    "\tchunk_mapping.append(chunk)"
   ]
  },
  {
   "cell_type": "code",
   "execution_count": 13,
   "id": "fff5e83c88e24154",
   "metadata": {
    "ExecuteTime": {
     "end_time": "2025-09-14T13:47:33.104968Z",
     "start_time": "2025-09-14T13:47:33.101429Z"
    }
   },
   "outputs": [],
   "source": [
    "faiss.write_index(index, \"../data/index.faiss\")"
   ]
  },
  {
   "cell_type": "code",
   "execution_count": 14,
   "id": "7c8f87f17442f59d",
   "metadata": {
    "ExecuteTime": {
     "end_time": "2025-09-14T13:51:08.953015Z",
     "start_time": "2025-09-14T13:51:08.950797Z"
    }
   },
   "outputs": [],
   "source": [
    "def retrieve_top_k(query, k=1):\n",
    "\tquery_embedding = generate_embeddings(query)\n",
    "\tdistance, indices = index.search(np.array([query_embedding]).astype(\"float32\"), k)\n",
    "\treturn [chunk_mapping[i] for i in indices[0]]"
   ]
  },
  {
   "cell_type": "code",
   "execution_count": 15,
   "id": "d358269a03f1973e",
   "metadata": {
    "ExecuteTime": {
     "end_time": "2025-09-14T13:55:05.065841Z",
     "start_time": "2025-09-14T13:55:05.063923Z"
    }
   },
   "outputs": [],
   "source": [
    "def build_prompt(context_chunks, query):\n",
    "\tcontext = \"\\n\\n\".join(context_chunks)\n",
    "\treturn f\"\"\"Use the following context to answer the question.\n",
    "\tContext:\n",
    "\t{context}\n",
    "\n",
    "\tQuestion:\n",
    "\t{query}\n",
    "\n",
    "\tAnswer:\"\"\""
   ]
  },
  {
   "cell_type": "code",
   "execution_count": 16,
   "id": "f3486a9738f236ed",
   "metadata": {
    "ExecuteTime": {
     "end_time": "2025-09-14T13:56:39.218245Z",
     "start_time": "2025-09-14T13:56:39.215889Z"
    }
   },
   "outputs": [],
   "source": [
    "def generate_response(prompt, model=\"gpt-4.1-nano\"):\n",
    "\turl = \"https://api.euron.one/api/v1/euri/chat/completions\"\n",
    "\theaders = {\"Content-Type\": \"application/json\", \"Authorization\": f\"Bearer {API_KEY}\"}\n",
    "\tpayload = {\n",
    "\t\t\"messages\": [{\"role\": \"user\", \"content\": prompt}],\n",
    "\t\t\"model\": model,\n",
    "\t\t\"max_tokens\": 500,\n",
    "\t\t\"temperature\": 0.3,\n",
    "\t}\n",
    "\tresponse = requests.post(url, headers=headers, json=payload)\n",
    "\treturn response.json()[\"choices\"][0][\"message\"][\"content\"]"
   ]
  },
  {
   "cell_type": "code",
   "execution_count": 21,
   "id": "a012f43f347b5a7e",
   "metadata": {
    "ExecuteTime": {
     "end_time": "2025-09-14T14:00:59.502959Z",
     "start_time": "2025-09-14T14:00:58.588198Z"
    }
   },
   "outputs": [],
   "source": [
    "query = \"what was the birth place of Sudhanshu?\"\n",
    "top_chunks = retrieve_top_k(query=query, k=3)"
   ]
  },
  {
   "cell_type": "code",
   "execution_count": 22,
   "id": "3af95eedb25bf8b3",
   "metadata": {
    "ExecuteTime": {
     "end_time": "2025-09-14T14:01:00.116221Z",
     "start_time": "2025-09-14T14:01:00.114641Z"
    }
   },
   "outputs": [],
   "source": [
    "final_prompt = build_prompt(context_chunks=top_chunks, query=query)"
   ]
  },
  {
   "cell_type": "code",
   "execution_count": 23,
   "id": "ab9748d917ddaab0",
   "metadata": {
    "ExecuteTime": {
     "end_time": "2025-09-14T14:01:03.115671Z",
     "start_time": "2025-09-14T14:01:01.821525Z"
    }
   },
   "outputs": [
    {
     "data": {
      "text/plain": [
       "'Sudhanshu was born in Jamshedpur, Jharkhand, India.'"
      ]
     },
     "execution_count": 23,
     "metadata": {},
     "output_type": "execute_result"
    }
   ],
   "source": [
    "result = generate_response(prompt=final_prompt)\n",
    "result"
   ]
  },
  {
   "cell_type": "code",
   "execution_count": null,
   "id": "e6c03104fc866599",
   "metadata": {},
   "outputs": [],
   "source": []
  }
 ],
 "metadata": {
  "kernelspec": {
   "display_name": "Python 3",
   "language": "python",
   "name": "python3"
  },
  "language_info": {
   "codemirror_mode": {
    "name": "ipython",
    "version": 2
   },
   "file_extension": ".py",
   "mimetype": "text/x-python",
   "name": "python",
   "nbconvert_exporter": "python",
   "pygments_lexer": "ipython2",
   "version": "2.7.6"
  }
 },
 "nbformat": 4,
 "nbformat_minor": 5
}
